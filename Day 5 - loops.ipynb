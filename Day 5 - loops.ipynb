{
 "cells": [
  {
   "cell_type": "markdown",
   "metadata": {},
   "source": [
    "## For loops:\n",
    "\n",
    "- iterations\n",
    "- can perform repetition of a command\n",
    "- iterations are performed on iterables\n",
    "- iterables: strings, lists, tuples"
   ]
  },
  {
   "cell_type": "code",
   "execution_count": 1,
   "metadata": {},
   "outputs": [],
   "source": [
    "poro = (0.2,0.3,0.42,0.5,0.61,0.12)"
   ]
  },
  {
   "cell_type": "code",
   "execution_count": 2,
   "metadata": {},
   "outputs": [
    {
     "name": "stdout",
     "output_type": "stream",
     "text": [
      "0.2\n",
      "0.3\n",
      "0.42\n",
      "0.5\n",
      "0.61\n",
      "0.12\n"
     ]
    }
   ],
   "source": [
    "for i in poro:\n",
    "    print(i)"
   ]
  },
  {
   "cell_type": "code",
   "execution_count": 3,
   "metadata": {},
   "outputs": [
    {
     "name": "stdout",
     "output_type": "stream",
     "text": [
      "p\n",
      "e\n",
      "t\n",
      "r\n",
      "o\n",
      "l\n",
      "e\n",
      "u\n",
      "m\n"
     ]
    }
   ],
   "source": [
    "for i in 'petroleum':\n",
    "    print(i)"
   ]
  },
  {
   "cell_type": "code",
   "execution_count": 10,
   "metadata": {},
   "outputs": [],
   "source": [
    "import numpy as np\n"
   ]
  },
  {
   "cell_type": "code",
   "execution_count": 12,
   "metadata": {},
   "outputs": [
    {
     "name": "stdout",
     "output_type": "stream",
     "text": [
      "API gravity corresponding to specific gravity 0.89 is equal to 27.49 api\n",
      "API gravity corresponding to specific gravity 0.98 is equal to 12.89 api\n",
      "API gravity corresponding to specific gravity 0.75 is equal to 57.17 api\n",
      "API gravity corresponding to specific gravity 0.8 is equal to 45.38 api\n",
      "API gravity corresponding to specific gravity 0.82 is equal to 41.06 api\n",
      "API gravity corresponding to specific gravity 0.9 is equal to 25.72 api\n",
      "API gravity corresponding to specific gravity 1 is equal to 10.0 api\n",
      "API gravity corresponding to specific gravity 0.87 is equal to 31.14 api\n"
     ]
    }
   ],
   "source": [
    "API = []\n",
    "Specific_gravity = (0.89,0.98,0.75,0.8,0.82,0.9,1,0.87)\n",
    "for oil in Specific_gravity:\n",
    "    api = (141.5/oil) - 131.5\n",
    "    api = np.round(api,2)\n",
    "    API.append(api)\n",
    "    print(f'API gravity corresponding to specific gravity {oil} is equal to {api} api')"
   ]
  },
  {
   "cell_type": "code",
   "execution_count": 13,
   "metadata": {},
   "outputs": [
    {
     "data": {
      "text/plain": [
       "[27.49, 12.89, 57.17, 45.38, 41.06, 25.72, 10.0, 31.14]"
      ]
     },
     "execution_count": 13,
     "metadata": {},
     "output_type": "execute_result"
    }
   ],
   "source": [
    "API"
   ]
  },
  {
   "cell_type": "code",
   "execution_count": 15,
   "metadata": {},
   "outputs": [
    {
     "name": "stdout",
     "output_type": "stream",
     "text": [
      "API gravity corresponding to specific gravity 0.89 is equal to 27.49 api\n",
      "API gravity corresponding to specific gravity 0.98 is equal to 12.89 api\n",
      "API gravity corresponding to specific gravity 0.75 is equal to 57.17 api\n",
      "API gravity corresponding to specific gravity 0.8 is equal to 45.38 api\n",
      "API gravity corresponding to specific gravity 0.82 is equal to 41.06 api\n",
      "API gravity corresponding to specific gravity 0.9 is equal to 25.72 api\n",
      "API gravity corresponding to specific gravity 1 is equal to 10.0 api\n",
      "API gravity corresponding to specific gravity 0.87 is equal to 31.14 api\n",
      "This will be outside your for loop\n"
     ]
    }
   ],
   "source": [
    "API = []\n",
    "Specific_gravity = (0.89,0.98,0.75,0.8,0.82,0.9,1,0.87)\n",
    "for oil in Specific_gravity:\n",
    "    api = (141.5/oil) - 131.5\n",
    "    api = np.round(api,2)\n",
    "    API.append(api)\n",
    "    print(f'API gravity corresponding to specific gravity {oil} is equal to {api} api')\n",
    "    \n",
    "print('This will be outside your for loop')"
   ]
  },
  {
   "cell_type": "markdown",
   "metadata": {},
   "source": [
    "for else loop: else will execute only when for ios executed successfully"
   ]
  },
  {
   "cell_type": "code",
   "execution_count": 16,
   "metadata": {},
   "outputs": [
    {
     "name": "stdout",
     "output_type": "stream",
     "text": [
      "0.89\n",
      "0.98\n",
      "0.75\n",
      "0.8\n",
      "0.82\n",
      "0.9\n",
      "1\n",
      "0.87\n",
      "agfter successful for exercution\n"
     ]
    }
   ],
   "source": [
    "for i in Specific_gravity:\n",
    "    print(i)\n",
    "    \n",
    "else:\n",
    "    print(\"agfter successful for exercution\")"
   ]
  },
  {
   "cell_type": "code",
   "execution_count": 17,
   "metadata": {},
   "outputs": [],
   "source": [
    "perm = [34,42,56,72,12,32,43]"
   ]
  },
  {
   "cell_type": "code",
   "execution_count": 18,
   "metadata": {},
   "outputs": [
    {
     "data": {
      "text/plain": [
       "[34, 42, 56, 72, 12, 32, 43]"
      ]
     },
     "execution_count": 18,
     "metadata": {},
     "output_type": "execute_result"
    }
   ],
   "source": [
    "perm"
   ]
  },
  {
   "cell_type": "code",
   "execution_count": 23,
   "metadata": {},
   "outputs": [
    {
     "data": {
      "text/plain": [
       "(0.89, 0.98, 0.75, 0.8, 0.82, 0.9, 1, 0.87)"
      ]
     },
     "execution_count": 23,
     "metadata": {},
     "output_type": "execute_result"
    }
   ],
   "source": [
    "Specific_gravity"
   ]
  },
  {
   "cell_type": "code",
   "execution_count": 24,
   "metadata": {},
   "outputs": [
    {
     "data": {
      "text/plain": [
       "0.87"
      ]
     },
     "execution_count": 24,
     "metadata": {},
     "output_type": "execute_result"
    }
   ],
   "source": [
    "oil"
   ]
  },
  {
   "cell_type": "code",
   "execution_count": 26,
   "metadata": {},
   "outputs": [
    {
     "name": "stdout",
     "output_type": "stream",
     "text": [
      "34\n",
      "42\n",
      "56\n",
      "72\n",
      "12\n",
      "32\n",
      "43\n",
      "API gravity corresponding to specific gravity 0.89 is equal to 27.49 api\n",
      "API gravity corresponding to specific gravity 0.98 is equal to 12.89 api\n",
      "API gravity corresponding to specific gravity 0.75 is equal to 57.17 api\n",
      "API gravity corresponding to specific gravity 0.8 is equal to 45.38 api\n",
      "API gravity corresponding to specific gravity 0.82 is equal to 41.06 api\n",
      "API gravity corresponding to specific gravity 0.9 is equal to 25.72 api\n",
      "API gravity corresponding to specific gravity 1 is equal to 10.0 api\n",
      "API gravity corresponding to specific gravity 0.87 is equal to 31.14 api\n",
      "it will be second for\n"
     ]
    }
   ],
   "source": [
    "for i in perm:\n",
    "    print(i)\n",
    "    \n",
    "else: \n",
    "    for i in Specific_gravity:\n",
    "        api = (141.5/i) - 131.5\n",
    "        api = np.round(api,2)\n",
    "        \n",
    "        print(f'API gravity corresponding to specific gravity {i} is equal to {api} api')\n",
    "    print('it will be second for')"
   ]
  },
  {
   "cell_type": "markdown",
   "metadata": {},
   "source": [
    "## ZIP: will create tuple, it can be iterated over multiple inputs"
   ]
  },
  {
   "cell_type": "code",
   "execution_count": 27,
   "metadata": {},
   "outputs": [
    {
     "data": {
      "text/plain": [
       "[34, 42, 56, 72, 12, 32, 43]"
      ]
     },
     "execution_count": 27,
     "metadata": {},
     "output_type": "execute_result"
    }
   ],
   "source": [
    "perm"
   ]
  },
  {
   "cell_type": "code",
   "execution_count": 28,
   "metadata": {},
   "outputs": [
    {
     "data": {
      "text/plain": [
       "(0.89, 0.98, 0.75, 0.8, 0.82, 0.9, 1, 0.87)"
      ]
     },
     "execution_count": 28,
     "metadata": {},
     "output_type": "execute_result"
    }
   ],
   "source": [
    "Specific_gravity"
   ]
  },
  {
   "cell_type": "code",
   "execution_count": 29,
   "metadata": {},
   "outputs": [
    {
     "data": {
      "text/plain": [
       "7"
      ]
     },
     "execution_count": 29,
     "metadata": {},
     "output_type": "execute_result"
    }
   ],
   "source": [
    "len(perm)"
   ]
  },
  {
   "cell_type": "code",
   "execution_count": 30,
   "metadata": {},
   "outputs": [
    {
     "data": {
      "text/plain": [
       "8"
      ]
     },
     "execution_count": 30,
     "metadata": {},
     "output_type": "execute_result"
    }
   ],
   "source": [
    "len(Specific_gravity)"
   ]
  },
  {
   "cell_type": "code",
   "execution_count": 31,
   "metadata": {},
   "outputs": [
    {
     "data": {
      "text/plain": [
       "<zip at 0x1e5cc2cba88>"
      ]
     },
     "execution_count": 31,
     "metadata": {},
     "output_type": "execute_result"
    }
   ],
   "source": [
    "zip(Specific_gravity,perm)"
   ]
  },
  {
   "cell_type": "code",
   "execution_count": 32,
   "metadata": {},
   "outputs": [
    {
     "data": {
      "text/plain": [
       "[(0.89, 34), (0.98, 42), (0.75, 56), (0.8, 72), (0.82, 12), (0.9, 32), (1, 43)]"
      ]
     },
     "execution_count": 32,
     "metadata": {},
     "output_type": "execute_result"
    }
   ],
   "source": [
    "list(zip(Specific_gravity,perm))"
   ]
  },
  {
   "cell_type": "code",
   "execution_count": 33,
   "metadata": {},
   "outputs": [
    {
     "name": "stdout",
     "output_type": "stream",
     "text": [
      "API gravity corresponding to Specific Gravity 0.89 is 27.48876404494382\n",
      "Perm is 34\n",
      "API gravity corresponding to Specific Gravity 0.98 is 12.887755102040813\n",
      "Perm is 42\n",
      "API gravity corresponding to Specific Gravity 0.75 is 57.16666666666666\n",
      "Perm is 56\n",
      "API gravity corresponding to Specific Gravity 0.8 is 45.375\n",
      "Perm is 72\n",
      "API gravity corresponding to Specific Gravity 0.82 is 41.0609756097561\n",
      "Perm is 12\n",
      "API gravity corresponding to Specific Gravity 0.9 is 25.72222222222223\n",
      "Perm is 32\n",
      "API gravity corresponding to Specific Gravity 1 is 10.0\n",
      "Perm is 43\n"
     ]
    }
   ],
   "source": [
    "for i,j in zip(Specific_gravity,perm):\n",
    "    api = (141.5/i)-131.5\n",
    "    print('API gravity corresponding to Specific Gravity', i, 'is', api)\n",
    "    print(f'Perm is {j}')"
   ]
  },
  {
   "cell_type": "code",
   "execution_count": 34,
   "metadata": {},
   "outputs": [],
   "source": [
    "perm = [1,2,3]\n",
    "field_name = ['neelam','panna','volve']\n",
    "porosity = [0.2,0.3,0.4]"
   ]
  },
  {
   "cell_type": "code",
   "execution_count": 35,
   "metadata": {},
   "outputs": [
    {
     "data": {
      "text/plain": [
       "[(1, 'neelam', 0.2), (2, 'panna', 0.3), (3, 'volve', 0.4)]"
      ]
     },
     "execution_count": 35,
     "metadata": {},
     "output_type": "execute_result"
    }
   ],
   "source": [
    "list(zip(perm,field_name,porosity))"
   ]
  },
  {
   "cell_type": "code",
   "execution_count": 36,
   "metadata": {},
   "outputs": [
    {
     "name": "stdout",
     "output_type": "stream",
     "text": [
      "In field neelam, porosity is 0.2 and permeability is 1\n",
      "In field panna, porosity is 0.3 and permeability is 2\n",
      "In field volve, porosity is 0.4 and permeability is 3\n"
     ]
    }
   ],
   "source": [
    "for i,j,k in zip(perm,field_name,porosity):\n",
    "    print(f'In field {j}, porosity is {k} and permeability is {i}')"
   ]
  },
  {
   "cell_type": "code",
   "execution_count": 37,
   "metadata": {},
   "outputs": [],
   "source": [
    "rock = {'field':[],'porosity':[],'permeability':[]}"
   ]
  },
  {
   "cell_type": "code",
   "execution_count": 38,
   "metadata": {},
   "outputs": [
    {
     "data": {
      "text/plain": [
       "{'field': [], 'porosity': [], 'permeability': []}"
      ]
     },
     "execution_count": 38,
     "metadata": {},
     "output_type": "execute_result"
    }
   ],
   "source": [
    "rock"
   ]
  },
  {
   "cell_type": "code",
   "execution_count": 39,
   "metadata": {},
   "outputs": [],
   "source": [
    "for i,j,k in zip(field_name,porosity,perm):\n",
    "    rock['field'].append(i)\n",
    "    rock['porosity'].append(j)\n",
    "    rock['permeability'].append(k)"
   ]
  },
  {
   "cell_type": "code",
   "execution_count": 40,
   "metadata": {},
   "outputs": [
    {
     "data": {
      "text/plain": [
       "{'field': ['neelam', 'panna', 'volve'],\n",
       " 'porosity': [0.2, 0.3, 0.4],\n",
       " 'permeability': [1, 2, 3]}"
      ]
     },
     "execution_count": 40,
     "metadata": {},
     "output_type": "execute_result"
    }
   ],
   "source": [
    "rock"
   ]
  },
  {
   "cell_type": "code",
   "execution_count": 41,
   "metadata": {},
   "outputs": [],
   "source": [
    "rock = {'field':field_name,'porosity':porosity,'permeability':perm}"
   ]
  },
  {
   "cell_type": "code",
   "execution_count": 42,
   "metadata": {},
   "outputs": [
    {
     "data": {
      "text/plain": [
       "{'field': ['neelam', 'panna', 'volve'],\n",
       " 'porosity': [0.2, 0.3, 0.4],\n",
       " 'permeability': [1, 2, 3]}"
      ]
     },
     "execution_count": 42,
     "metadata": {},
     "output_type": "execute_result"
    }
   ],
   "source": [
    "rock"
   ]
  },
  {
   "cell_type": "markdown",
   "metadata": {},
   "source": [
    "# If - Else: to run a block of a code if certain condition holds true"
   ]
  },
  {
   "cell_type": "code",
   "execution_count": 45,
   "metadata": {},
   "outputs": [
    {
     "data": {
      "text/plain": [
       "True"
      ]
     },
     "execution_count": 45,
     "metadata": {},
     "output_type": "execute_result"
    }
   ],
   "source": [
    "1<2"
   ]
  },
  {
   "cell_type": "code",
   "execution_count": 46,
   "metadata": {},
   "outputs": [
    {
     "name": "stdout",
     "output_type": "stream",
     "text": [
      "hello \n",
      "Last\n"
     ]
    }
   ],
   "source": [
    "if 1<2:\n",
    "    print('hello ')\n",
    "else:\n",
    "    print('okay')\n",
    "print('Last')"
   ]
  },
  {
   "cell_type": "code",
   "execution_count": 49,
   "metadata": {},
   "outputs": [
    {
     "name": "stdout",
     "output_type": "stream",
     "text": [
      "It will always work\n"
     ]
    }
   ],
   "source": [
    "if True:\n",
    "    print('It will always work')\n",
    "else:\n",
    "    print('never')"
   ]
  },
  {
   "cell_type": "code",
   "execution_count": 53,
   "metadata": {},
   "outputs": [
    {
     "name": "stdout",
     "output_type": "stream",
     "text": [
      "true\n"
     ]
    }
   ],
   "source": [
    "if False:\n",
    "    print('never')\n",
    "else:\n",
    "    print('true')"
   ]
  },
  {
   "cell_type": "code",
   "execution_count": 59,
   "metadata": {},
   "outputs": [
    {
     "name": "stdout",
     "output_type": "stream",
     "text": [
      "Four\n"
     ]
    }
   ],
   "source": [
    "i =4\n",
    "if i==1:\n",
    "    print(1)\n",
    "elif i==2:\n",
    "    print(2)\n",
    "elif i==4:\n",
    "    print('Four')\n",
    "else: \n",
    "    print('All')"
   ]
  },
  {
   "cell_type": "code",
   "execution_count": 62,
   "metadata": {},
   "outputs": [
    {
     "name": "stdout",
     "output_type": "stream",
     "text": [
      "Enter the reservoir pressure(psi): 2500\n",
      "Enter the Hydrostatic pressure(psi) of mud: 2600\n",
      "Enter the fracture pressure of rock(psi): 2800\n",
      "Reservoir pressure is lesser than hydrostatic pressure, so no kick\n",
      "Hydrostatic Pressure due to mud is leeser than  Fracture Pressure of formation, so no fracture\n",
      "SAFE ZONE\n"
     ]
    }
   ],
   "source": [
    "Reservoir_Pressure = float(input('Enter the reservoir pressure(psi): '))\n",
    "Hydrostatic_Pressure = float(input('Enter the Hydrostatic pressure(psi) of mud: '))\n",
    "Fracture_Pressure = float(input('Enter the fracture pressure of rock(psi): '))\n",
    "if Hydrostatic_Pressure>Reservoir_Pressure and Hydrostatic_Pressure< Fracture_Pressure:\n",
    "    print('Reservoir pressure is lesser than hydrostatic pressure, so no kick')\n",
    "    print('Hydrostatic Pressure due to mud is leeser than  Fracture Pressure of formation, so no fracture')\n",
    "    print('SAFE ZONE')\n",
    "    \n",
    "elif Hydrostatic_Pressure>Reservoir_Pressure and Hydrostatic_Pressure> Fracture_Pressure:\n",
    "    print('Hydrostatic Pressure greater than Fracture Pressure, may result in fracture')\n",
    "    print('ALERT!!! Risk of formation Fracture')\n",
    "    \n",
    "else:\n",
    "    print('ALERT!!! Rick of kick')"
   ]
  },
  {
   "cell_type": "markdown",
   "metadata": {},
   "source": [
    "## While Loop: To repeat a block of code again and again; until the condition satisfies"
   ]
  },
  {
   "cell_type": "code",
   "execution_count": 63,
   "metadata": {},
   "outputs": [
    {
     "name": "stdout",
     "output_type": "stream",
     "text": [
      "This is a valid statement\n",
      "2\n",
      "This is a valid statement\n",
      "3\n",
      "This is a valid statement\n",
      "4\n",
      "This is a valid statement\n",
      "5\n",
      "This is a valid statement\n",
      "6\n",
      "This is a valid statement\n",
      "7\n"
     ]
    }
   ],
   "source": [
    "a = 2 \n",
    "\n",
    "while a<=7:\n",
    "    print('This is a valid statement')\n",
    "    print(a)\n",
    "    a = a+1"
   ]
  },
  {
   "cell_type": "code",
   "execution_count": 66,
   "metadata": {},
   "outputs": [],
   "source": [
    "a = 3\n",
    "a+=1 #equivalent to a = a+1"
   ]
  },
  {
   "cell_type": "code",
   "execution_count": 67,
   "metadata": {},
   "outputs": [
    {
     "data": {
      "text/plain": [
       "4"
      ]
     },
     "execution_count": 67,
     "metadata": {},
     "output_type": "execute_result"
    }
   ],
   "source": [
    "a"
   ]
  },
  {
   "cell_type": "code",
   "execution_count": 68,
   "metadata": {},
   "outputs": [
    {
     "name": "stdout",
     "output_type": "stream",
     "text": [
      "2000 is not abnormal pressure\n",
      "2100 is not abnormal pressure\n",
      "2200 is not abnormal pressure\n",
      "2300 is not abnormal pressure\n",
      "2400 is not abnormal pressure\n",
      "2500 is abnormal\n"
     ]
    }
   ],
   "source": [
    "pressure = 2000\n",
    "while pressure<2500:\n",
    "    print(f\"{pressure} is not abnormal pressure\")\n",
    "    pressure+=100\n",
    "else:\n",
    "    print(f\"{pressure} is abnormal\")"
   ]
  },
  {
   "cell_type": "code",
   "execution_count": 69,
   "metadata": {},
   "outputs": [
    {
     "name": "stdout",
     "output_type": "stream",
     "text": [
      "Enter the Password: jbhkfsgkfsjhd\n",
      "Wrong Password, enter again\n",
      "Enter the Password: hjghjh\n",
      "Wrong Password, enter again\n",
      "Enter the Password: 1234\n",
      "Wrong Password, enter again\n",
      "Enter the Password: Petroleum\n",
      "Access Granted\n"
     ]
    }
   ],
   "source": [
    "Password = input('Enter the Password: ')\n",
    "\n",
    "while Password!= \"Petroleum\":\n",
    "    print('Wrong Password, enter again')\n",
    "    Password = input('Enter the Password: ')\n",
    "\n",
    "else:\n",
    "    print('Access Granted')"
   ]
  }
 ],
 "metadata": {
  "kernelspec": {
   "display_name": "Python 3",
   "language": "python",
   "name": "python3"
  },
  "language_info": {
   "codemirror_mode": {
    "name": "ipython",
    "version": 3
   },
   "file_extension": ".py",
   "mimetype": "text/x-python",
   "name": "python",
   "nbconvert_exporter": "python",
   "pygments_lexer": "ipython3",
   "version": "3.7.4"
  }
 },
 "nbformat": 4,
 "nbformat_minor": 2
}
