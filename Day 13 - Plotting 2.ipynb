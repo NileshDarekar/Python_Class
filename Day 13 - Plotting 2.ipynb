{
 "cells": [
  {
   "cell_type": "code",
   "execution_count": 1,
   "metadata": {},
   "outputs": [],
   "source": [
    "import numpy as np \n",
    "import pandas as pd\n",
    "import matplotlib.pyplot as plt\n",
    "import seaborn as sns"
   ]
  },
  {
   "cell_type": "code",
   "execution_count": 2,
   "metadata": {},
   "outputs": [],
   "source": [
    "x = np.linspace(0,100,10)\n",
    "\n",
    "y = x**2"
   ]
  },
  {
   "cell_type": "code",
   "execution_count": 3,
   "metadata": {},
   "outputs": [
    {
     "data": {
      "text/plain": [
       "array([  0.        ,  11.11111111,  22.22222222,  33.33333333,\n",
       "        44.44444444,  55.55555556,  66.66666667,  77.77777778,\n",
       "        88.88888889, 100.        ])"
      ]
     },
     "execution_count": 3,
     "metadata": {},
     "output_type": "execute_result"
    }
   ],
   "source": [
    "x"
   ]
  },
  {
   "cell_type": "code",
   "execution_count": 4,
   "metadata": {},
   "outputs": [
    {
     "data": {
      "text/plain": [
       "array([    0.        ,   123.45679012,   493.82716049,  1111.11111111,\n",
       "        1975.30864198,  3086.41975309,  4444.44444444,  6049.38271605,\n",
       "        7901.2345679 , 10000.        ])"
      ]
     },
     "execution_count": 4,
     "metadata": {},
     "output_type": "execute_result"
    }
   ],
   "source": [
    "y"
   ]
  },
  {
   "cell_type": "code",
   "execution_count": 6,
   "metadata": {},
   "outputs": [
    {
     "data": {
      "text/plain": [
       "[<matplotlib.lines.Line2D at 0x25cff5a9108>]"
      ]
     },
     "execution_count": 6,
     "metadata": {},
     "output_type": "execute_result"
    },
    {
     "data": {
      "image/png": "[encoded data removed]",
      "text/plain": [
       "<Figure size 432x288 with 1 Axes>"
      ]
     },
     "metadata": {
      "needs_background": "light"
     },
     "output_type": "display_data"
    }
   ],
   "source": [
    "plt.scatter(x,y,s=200,c='red')\n",
    "plt.plot(x,y,color = 'black')"
   ]
  },
  {
   "cell_type": "code",
   "execution_count": 8,
   "metadata": {},
   "outputs": [
    {
     "name": "stderr",
     "output_type": "stream",
     "text": [
      "C:\\Users\\acer\\Anaconda3\\lib\\site-packages\\ipykernel_launcher.py:3: MatplotlibDeprecationWarning: Case-insensitive properties were deprecated in 3.3 and support will be removed two minor releases later\n",
      "  This is separate from the ipykernel package so we can avoid doing imports until\n"
     ]
    },
    {
     "data": {
      "text/plain": [
       "[<matplotlib.lines.Line2D at 0x25cff5ac948>]"
      ]
     },
     "execution_count": 8,
     "metadata": {},
     "output_type": "execute_result"
    },
    {
     "data": {
      "image/png": "[encoded data removed]",
      "text/plain": [
       "<Figure size 432x288 with 1 Axes>"
      ]
     },
     "metadata": {
      "needs_background": "light"
     },
     "output_type": "display_data"
    }
   ],
   "source": [
    "#alpha\n",
    "plt.scatter(x,y,s=200,c='red',alpha=0.25)\n",
    "plt.plot(x,y,color = 'black',ALPHA = 0.4)"
   ]
  },
  {
   "cell_type": "code",
   "execution_count": 16,
   "metadata": {},
   "outputs": [],
   "source": [
    "df = pd.read_html('https://github.com/jaiyesh/Energy-DA-from-scratch/blob/main/Final%20PF-12%20and%20Injection.csv')"
   ]
  },
  {
   "cell_type": "code",
   "execution_count": 17,
   "metadata": {},
   "outputs": [
    {
     "data": {
      "text/plain": [
       "[      Unnamed: 0    DATEPRD  NPD_WELL_BORE_CODE NPD_WELL_BORE_NAME  \\\n",
       " 0            NaN  01-Sep-07                5599          15/9-F-12   \n",
       " 1            NaN  02-Sep-07                5599          15/9-F-12   \n",
       " 2            NaN  03-Sep-07                5599          15/9-F-12   \n",
       " 3            NaN  04-Sep-07                5599          15/9-F-12   \n",
       " 4            NaN  05-Sep-07                5599          15/9-F-12   \n",
       " ...          ...        ...                 ...                ...   \n",
       " 3300         NaN  13-Sep-16                5599          15/9-F-12   \n",
       " 3301         NaN  14-Sep-16                5599          15/9-F-12   \n",
       " 3302         NaN  15-Sep-16                5599          15/9-F-12   \n",
       " 3303         NaN  16-Sep-16                5599          15/9-F-12   \n",
       " 3304         NaN  17-Sep-16                5599          15/9-F-12   \n",
       " \n",
       "       ON_STREAM_HRS  AVG_DOWNHOLE_PRESSURE  AVG_DOWNHOLE_TEMPERATURE  \\\n",
       " 0               0.0                    0.0                       0.0   \n",
       " 1               0.0                    0.0                       0.0   \n",
       " 2               0.0                    0.0                       0.0   \n",
       " 3               0.0                    0.0                       0.0   \n",
       " 4               0.0                    0.0                       0.0   \n",
       " ...             ...                    ...                       ...   \n",
       " 3300            0.0                    0.0                       0.0   \n",
       " 3301            0.0                    0.0                       0.0   \n",
       " 3302            0.0                    0.0                       0.0   \n",
       " 3303            0.0                    0.0                       0.0   \n",
       " 3304            0.0                    0.0                       0.0   \n",
       " \n",
       "       AVG_DP_TUBING  AVG_ANNULUS_PRESS  AVG_CHOKE_SIZE_P  ...  AVG_WHT_P  \\\n",
       " 0               0.0              0.000           0.00000  ...        0.0   \n",
       " 1               0.0              0.000           0.00000  ...        0.0   \n",
       " 2               0.0              0.000           0.00000  ...        0.0   \n",
       " 3               0.0              0.000           0.00000  ...        0.0   \n",
       " 4               0.0              0.000           0.00000  ...        0.0   \n",
       " ...             ...                ...               ...  ...        ...   \n",
       " 3300            0.0             19.959           0.99291  ...        0.0   \n",
       " 3301            0.0             19.959           0.97304  ...        0.0   \n",
       " 3302            0.0             19.959           0.97778  ...        0.0   \n",
       " 3303            0.0             19.959           0.96101  ...        0.0   \n",
       " 3304            0.0             19.959           0.90339  ...        0.0   \n",
       " \n",
       "       DP_CHOKE_SIZE  BORE_GAS_VOL  BORE_WAT_VOL  Injection Hours F-4  \\\n",
       " 0             0.000           0.0           0.0                 0.00   \n",
       " 1             0.000           0.0           0.0                 0.00   \n",
       " 2             0.000           0.0           0.0                 0.00   \n",
       " 3             0.000           0.0           0.0                 0.00   \n",
       " 4             0.000           0.0           0.0                 0.00   \n",
       " ...             ...           ...           ...                  ...   \n",
       " 3300          0.013           0.0           0.0                 0.00   \n",
       " 3301          0.016           0.0           0.0                 9.56   \n",
       " 3302          0.024           0.0           0.0                24.00   \n",
       " 3303          0.025           0.0           0.0                24.00   \n",
       " 3304          0.026           0.0           0.0                 7.61   \n",
       " \n",
       "       Water Injection F-4  Injection Hours F-5  Water Injection F-5  \\\n",
       " 0                       0                  0.0                    0   \n",
       " 1                       0                  0.0                    0   \n",
       " 2                       0                  0.0                    0   \n",
       " 3                       0                  0.0                    0   \n",
       " 4                       0                  0.0                    0   \n",
       " ...                   ...                  ...                  ...   \n",
       " 3300                    0                  0.0                    0   \n",
       " 3301                 1811                  0.0                    0   \n",
       " 3302                 4469                  0.0                    0   \n",
       " 3303                 4475                  0.0                    0   \n",
       " 3304                 1419                  0.0                    0   \n",
       " \n",
       "       Total Water Injection  BORE_OIL_VOL  \n",
       " 0                         0           0.0  \n",
       " 1                         0           0.0  \n",
       " 2                         0           0.0  \n",
       " 3                         0           0.0  \n",
       " 4                         0           0.0  \n",
       " ...                     ...           ...  \n",
       " 3300                      0           0.0  \n",
       " 3301                   1811           0.0  \n",
       " 3302                   4469           0.0  \n",
       " 3303                   4475           0.0  \n",
       " 3304                   1419           0.0  \n",
       " \n",
       " [3305 rows x 21 columns]]"
      ]
     },
     "execution_count": 17,
     "metadata": {},
     "output_type": "execute_result"
    }
   ],
   "source": [
    "df"
   ]
  },
  {
   "cell_type": "code",
   "execution_count": 18,
   "metadata": {},
   "outputs": [
    {
     "data": {
      "text/plain": [
       "list"
      ]
     },
     "execution_count": 18,
     "metadata": {},
     "output_type": "execute_result"
    }
   ],
   "source": [
    "type(df)"
   ]
  },
  {
   "cell_type": "code",
   "execution_count": 19,
   "metadata": {},
   "outputs": [
    {
     "data": {
      "text/plain": [
       "1"
      ]
     },
     "execution_count": 19,
     "metadata": {},
     "output_type": "execute_result"
    }
   ],
   "source": [
    "len(df)"
   ]
  },
  {
   "cell_type": "code",
   "execution_count": 20,
   "metadata": {},
   "outputs": [],
   "source": [
    "df = df[0]"
   ]
  },
  {
   "cell_type": "code",
   "execution_count": 21,
   "metadata": {},
   "outputs": [
    {
     "data": {
      "text/html": [
       "<div>\n",
       "<style scoped>\n",
       "    .dataframe tbody tr th:only-of-type {\n",
       "        vertical-align: middle;\n",
       "    }\n",
       "\n",
       "    .dataframe tbody tr th {\n",
       "        vertical-align: top;\n",
       "    }\n",
       "\n",
       "    .dataframe thead th {\n",
       "        text-align: right;\n",
       "    }\n",
       "</style>\n",
       "<table border=\"1\" class=\"dataframe\">\n",
       "  <thead>\n",
       "    <tr style=\"text-align: right;\">\n",
       "      <th></th>\n",
       "      <th>Unnamed: 0</th>\n",
       "      <th>DATEPRD</th>\n",
       "      <th>NPD_WELL_BORE_CODE</th>\n",
       "      <th>NPD_WELL_BORE_NAME</th>\n",
       "      <th>ON_STREAM_HRS</th>\n",
       "      <th>AVG_DOWNHOLE_PRESSURE</th>\n",
       "      <th>AVG_DOWNHOLE_TEMPERATURE</th>\n",
       "      <th>AVG_DP_TUBING</th>\n",
       "      <th>AVG_ANNULUS_PRESS</th>\n",
       "      <th>AVG_CHOKE_SIZE_P</th>\n",
       "      <th>...</th>\n",
       "      <th>AVG_WHT_P</th>\n",
       "      <th>DP_CHOKE_SIZE</th>\n",
       "      <th>BORE_GAS_VOL</th>\n",
       "      <th>BORE_WAT_VOL</th>\n",
       "      <th>Injection Hours F-4</th>\n",
       "      <th>Water Injection F-4</th>\n",
       "      <th>Injection Hours F-5</th>\n",
       "      <th>Water Injection F-5</th>\n",
       "      <th>Total Water Injection</th>\n",
       "      <th>BORE_OIL_VOL</th>\n",
       "    </tr>\n",
       "  </thead>\n",
       "  <tbody>\n",
       "    <tr>\n",
       "      <th>0</th>\n",
       "      <td>NaN</td>\n",
       "      <td>01-Sep-07</td>\n",
       "      <td>5599</td>\n",
       "      <td>15/9-F-12</td>\n",
       "      <td>0.0</td>\n",
       "      <td>0.0</td>\n",
       "      <td>0.0</td>\n",
       "      <td>0.0</td>\n",
       "      <td>0.000</td>\n",
       "      <td>0.00000</td>\n",
       "      <td>...</td>\n",
       "      <td>0.0</td>\n",
       "      <td>0.000</td>\n",
       "      <td>0.0</td>\n",
       "      <td>0.0</td>\n",
       "      <td>0.00</td>\n",
       "      <td>0</td>\n",
       "      <td>0.0</td>\n",
       "      <td>0</td>\n",
       "      <td>0</td>\n",
       "      <td>0.0</td>\n",
       "    </tr>\n",
       "    <tr>\n",
       "      <th>1</th>\n",
       "      <td>NaN</td>\n",
       "      <td>02-Sep-07</td>\n",
       "      <td>5599</td>\n",
       "      <td>15/9-F-12</td>\n",
       "      <td>0.0</td>\n",
       "      <td>0.0</td>\n",
       "      <td>0.0</td>\n",
       "      <td>0.0</td>\n",
       "      <td>0.000</td>\n",
       "      <td>0.00000</td>\n",
       "      <td>...</td>\n",
       "      <td>0.0</td>\n",
       "      <td>0.000</td>\n",
       "      <td>0.0</td>\n",
       "      <td>0.0</td>\n",
       "      <td>0.00</td>\n",
       "      <td>0</td>\n",
       "      <td>0.0</td>\n",
       "      <td>0</td>\n",
       "      <td>0</td>\n",
       "      <td>0.0</td>\n",
       "    </tr>\n",
       "    <tr>\n",
       "      <th>2</th>\n",
       "      <td>NaN</td>\n",
       "      <td>03-Sep-07</td>\n",
       "      <td>5599</td>\n",
       "      <td>15/9-F-12</td>\n",
       "      <td>0.0</td>\n",
       "      <td>0.0</td>\n",
       "      <td>0.0</td>\n",
       "      <td>0.0</td>\n",
       "      <td>0.000</td>\n",
       "      <td>0.00000</td>\n",
       "      <td>...</td>\n",
       "      <td>0.0</td>\n",
       "      <td>0.000</td>\n",
       "      <td>0.0</td>\n",
       "      <td>0.0</td>\n",
       "      <td>0.00</td>\n",
       "      <td>0</td>\n",
       "      <td>0.0</td>\n",
       "      <td>0</td>\n",
       "      <td>0</td>\n",
       "      <td>0.0</td>\n",
       "    </tr>\n",
       "    <tr>\n",
       "      <th>3</th>\n",
       "      <td>NaN</td>\n",
       "      <td>04-Sep-07</td>\n",
       "      <td>5599</td>\n",
       "      <td>15/9-F-12</td>\n",
       "      <td>0.0</td>\n",
       "      <td>0.0</td>\n",
       "      <td>0.0</td>\n",
       "      <td>0.0</td>\n",
       "      <td>0.000</td>\n",
       "      <td>0.00000</td>\n",
       "      <td>...</td>\n",
       "      <td>0.0</td>\n",
       "      <td>0.000</td>\n",
       "      <td>0.0</td>\n",
       "      <td>0.0</td>\n",
       "      <td>0.00</td>\n",
       "      <td>0</td>\n",
       "      <td>0.0</td>\n",
       "      <td>0</td>\n",
       "      <td>0</td>\n",
       "      <td>0.0</td>\n",
       "    </tr>\n",
       "    <tr>\n",
       "      <th>4</th>\n",
       "      <td>NaN</td>\n",
       "      <td>05-Sep-07</td>\n",
       "      <td>5599</td>\n",
       "      <td>15/9-F-12</td>\n",
       "      <td>0.0</td>\n",
       "      <td>0.0</td>\n",
       "      <td>0.0</td>\n",
       "      <td>0.0</td>\n",
       "      <td>0.000</td>\n",
       "      <td>0.00000</td>\n",
       "      <td>...</td>\n",
       "      <td>0.0</td>\n",
       "      <td>0.000</td>\n",
       "      <td>0.0</td>\n",
       "      <td>0.0</td>\n",
       "      <td>0.00</td>\n",
       "      <td>0</td>\n",
       "      <td>0.0</td>\n",
       "      <td>0</td>\n",
       "      <td>0</td>\n",
       "      <td>0.0</td>\n",
       "    </tr>\n",
       "    <tr>\n",
       "      <th>...</th>\n",
       "      <td>...</td>\n",
       "      <td>...</td>\n",
       "      <td>...</td>\n",
       "      <td>...</td>\n",
       "      <td>...</td>\n",
       "      <td>...</td>\n",
       "      <td>...</td>\n",
       "      <td>...</td>\n",
       "      <td>...</td>\n",
       "      <td>...</td>\n",
       "      <td>...</td>\n",
       "      <td>...</td>\n",
       "      <td>...</td>\n",
       "      <td>...</td>\n",
       "      <td>...</td>\n",
       "      <td>...</td>\n",
       "      <td>...</td>\n",
       "      <td>...</td>\n",
       "      <td>...</td>\n",
       "      <td>...</td>\n",
       "      <td>...</td>\n",
       "    </tr>\n",
       "    <tr>\n",
       "      <th>3300</th>\n",
       "      <td>NaN</td>\n",
       "      <td>13-Sep-16</td>\n",
       "      <td>5599</td>\n",
       "      <td>15/9-F-12</td>\n",
       "      <td>0.0</td>\n",
       "      <td>0.0</td>\n",
       "      <td>0.0</td>\n",
       "      <td>0.0</td>\n",
       "      <td>19.959</td>\n",
       "      <td>0.99291</td>\n",
       "      <td>...</td>\n",
       "      <td>0.0</td>\n",
       "      <td>0.013</td>\n",
       "      <td>0.0</td>\n",
       "      <td>0.0</td>\n",
       "      <td>0.00</td>\n",
       "      <td>0</td>\n",
       "      <td>0.0</td>\n",
       "      <td>0</td>\n",
       "      <td>0</td>\n",
       "      <td>0.0</td>\n",
       "    </tr>\n",
       "    <tr>\n",
       "      <th>3301</th>\n",
       "      <td>NaN</td>\n",
       "      <td>14-Sep-16</td>\n",
       "      <td>5599</td>\n",
       "      <td>15/9-F-12</td>\n",
       "      <td>0.0</td>\n",
       "      <td>0.0</td>\n",
       "      <td>0.0</td>\n",
       "      <td>0.0</td>\n",
       "      <td>19.959</td>\n",
       "      <td>0.97304</td>\n",
       "      <td>...</td>\n",
       "      <td>0.0</td>\n",
       "      <td>0.016</td>\n",
       "      <td>0.0</td>\n",
       "      <td>0.0</td>\n",
       "      <td>9.56</td>\n",
       "      <td>1811</td>\n",
       "      <td>0.0</td>\n",
       "      <td>0</td>\n",
       "      <td>1811</td>\n",
       "      <td>0.0</td>\n",
       "    </tr>\n",
       "    <tr>\n",
       "      <th>3302</th>\n",
       "      <td>NaN</td>\n",
       "      <td>15-Sep-16</td>\n",
       "      <td>5599</td>\n",
       "      <td>15/9-F-12</td>\n",
       "      <td>0.0</td>\n",
       "      <td>0.0</td>\n",
       "      <td>0.0</td>\n",
       "      <td>0.0</td>\n",
       "      <td>19.959</td>\n",
       "      <td>0.97778</td>\n",
       "      <td>...</td>\n",
       "      <td>0.0</td>\n",
       "      <td>0.024</td>\n",
       "      <td>0.0</td>\n",
       "      <td>0.0</td>\n",
       "      <td>24.00</td>\n",
       "      <td>4469</td>\n",
       "      <td>0.0</td>\n",
       "      <td>0</td>\n",
       "      <td>4469</td>\n",
       "      <td>0.0</td>\n",
       "    </tr>\n",
       "    <tr>\n",
       "      <th>3303</th>\n",
       "      <td>NaN</td>\n",
       "      <td>16-Sep-16</td>\n",
       "      <td>5599</td>\n",
       "      <td>15/9-F-12</td>\n",
       "      <td>0.0</td>\n",
       "      <td>0.0</td>\n",
       "      <td>0.0</td>\n",
       "      <td>0.0</td>\n",
       "      <td>19.959</td>\n",
       "      <td>0.96101</td>\n",
       "      <td>...</td>\n",
       "      <td>0.0</td>\n",
       "      <td>0.025</td>\n",
       "      <td>0.0</td>\n",
       "      <td>0.0</td>\n",
       "      <td>24.00</td>\n",
       "      <td>4475</td>\n",
       "      <td>0.0</td>\n",
       "      <td>0</td>\n",
       "      <td>4475</td>\n",
       "      <td>0.0</td>\n",
       "    </tr>\n",
       "    <tr>\n",
       "      <th>3304</th>\n",
       "      <td>NaN</td>\n",
       "      <td>17-Sep-16</td>\n",
       "      <td>5599</td>\n",
       "      <td>15/9-F-12</td>\n",
       "      <td>0.0</td>\n",
       "      <td>0.0</td>\n",
       "      <td>0.0</td>\n",
       "      <td>0.0</td>\n",
       "      <td>19.959</td>\n",
       "      <td>0.90339</td>\n",
       "      <td>...</td>\n",
       "      <td>0.0</td>\n",
       "      <td>0.026</td>\n",
       "      <td>0.0</td>\n",
       "      <td>0.0</td>\n",
       "      <td>7.61</td>\n",
       "      <td>1419</td>\n",
       "      <td>0.0</td>\n",
       "      <td>0</td>\n",
       "      <td>1419</td>\n",
       "      <td>0.0</td>\n",
       "    </tr>\n",
       "  </tbody>\n",
       "</table>\n",
       "<p>3305 rows × 21 columns</p>\n",
       "</div>"
      ],
      "text/plain": [
       "      Unnamed: 0    DATEPRD  NPD_WELL_BORE_CODE NPD_WELL_BORE_NAME  \\\n",
       "0            NaN  01-Sep-07                5599          15/9-F-12   \n",
       "1            NaN  02-Sep-07                5599          15/9-F-12   \n",
       "2            NaN  03-Sep-07                5599          15/9-F-12   \n",
       "3            NaN  04-Sep-07                5599          15/9-F-12   \n",
       "4            NaN  05-Sep-07                5599          15/9-F-12   \n",
       "...          ...        ...                 ...                ...   \n",
       "3300         NaN  13-Sep-16                5599          15/9-F-12   \n",
       "3301         NaN  14-Sep-16                5599          15/9-F-12   \n",
       "3302         NaN  15-Sep-16                5599          15/9-F-12   \n",
       "3303         NaN  16-Sep-16                5599          15/9-F-12   \n",
       "3304         NaN  17-Sep-16                5599          15/9-F-12   \n",
       "\n",
       "      ON_STREAM_HRS  AVG_DOWNHOLE_PRESSURE  AVG_DOWNHOLE_TEMPERATURE  \\\n",
       "0               0.0                    0.0                       0.0   \n",
       "1               0.0                    0.0                       0.0   \n",
       "2               0.0                    0.0                       0.0   \n",
       "3               0.0                    0.0                       0.0   \n",
       "4               0.0                    0.0                       0.0   \n",
       "...             ...                    ...                       ...   \n",
       "3300            0.0                    0.0                       0.0   \n",
       "3301            0.0                    0.0                       0.0   \n",
       "3302            0.0                    0.0                       0.0   \n",
       "3303            0.0                    0.0                       0.0   \n",
       "3304            0.0                    0.0                       0.0   \n",
       "\n",
       "      AVG_DP_TUBING  AVG_ANNULUS_PRESS  AVG_CHOKE_SIZE_P  ...  AVG_WHT_P  \\\n",
       "0               0.0              0.000           0.00000  ...        0.0   \n",
       "1               0.0              0.000           0.00000  ...        0.0   \n",
       "2               0.0              0.000           0.00000  ...        0.0   \n",
       "3               0.0              0.000           0.00000  ...        0.0   \n",
       "4               0.0              0.000           0.00000  ...        0.0   \n",
       "...             ...                ...               ...  ...        ...   \n",
       "3300            0.0             19.959           0.99291  ...        0.0   \n",
       "3301            0.0             19.959           0.97304  ...        0.0   \n",
       "3302            0.0             19.959           0.97778  ...        0.0   \n",
       "3303            0.0             19.959           0.96101  ...        0.0   \n",
       "3304            0.0             19.959           0.90339  ...        0.0   \n",
       "\n",
       "      DP_CHOKE_SIZE  BORE_GAS_VOL  BORE_WAT_VOL  Injection Hours F-4  \\\n",
       "0             0.000           0.0           0.0                 0.00   \n",
       "1             0.000           0.0           0.0                 0.00   \n",
       "2             0.000           0.0           0.0                 0.00   \n",
       "3             0.000           0.0           0.0                 0.00   \n",
       "4             0.000           0.0           0.0                 0.00   \n",
       "...             ...           ...           ...                  ...   \n",
       "3300          0.013           0.0           0.0                 0.00   \n",
       "3301          0.016           0.0           0.0                 9.56   \n",
       "3302          0.024           0.0           0.0                24.00   \n",
       "3303          0.025           0.0           0.0                24.00   \n",
       "3304          0.026           0.0           0.0                 7.61   \n",
       "\n",
       "      Water Injection F-4  Injection Hours F-5  Water Injection F-5  \\\n",
       "0                       0                  0.0                    0   \n",
       "1                       0                  0.0                    0   \n",
       "2                       0                  0.0                    0   \n",
       "3                       0                  0.0                    0   \n",
       "4                       0                  0.0                    0   \n",
       "...                   ...                  ...                  ...   \n",
       "3300                    0                  0.0                    0   \n",
       "3301                 1811                  0.0                    0   \n",
       "3302                 4469                  0.0                    0   \n",
       "3303                 4475                  0.0                    0   \n",
       "3304                 1419                  0.0                    0   \n",
       "\n",
       "      Total Water Injection  BORE_OIL_VOL  \n",
       "0                         0           0.0  \n",
       "1                         0           0.0  \n",
       "2                         0           0.0  \n",
       "3                         0           0.0  \n",
       "4                         0           0.0  \n",
       "...                     ...           ...  \n",
       "3300                      0           0.0  \n",
       "3301                   1811           0.0  \n",
       "3302                   4469           0.0  \n",
       "3303                   4475           0.0  \n",
       "3304                   1419           0.0  \n",
       "\n",
       "[3305 rows x 21 columns]"
      ]
     },
     "execution_count": 21,
     "metadata": {},
     "output_type": "execute_result"
    }
   ],
   "source": [
    "df"
   ]
  },
  {
   "cell_type": "code",
   "execution_count": 22,
   "metadata": {},
   "outputs": [
    {
     "data": {
      "text/plain": [
       "Index(['Unnamed: 0', 'DATEPRD', 'NPD_WELL_BORE_CODE', 'NPD_WELL_BORE_NAME',\n",
       "       'ON_STREAM_HRS', 'AVG_DOWNHOLE_PRESSURE', 'AVG_DOWNHOLE_TEMPERATURE',\n",
       "       'AVG_DP_TUBING', 'AVG_ANNULUS_PRESS', 'AVG_CHOKE_SIZE_P', 'AVG_WHP_P',\n",
       "       'AVG_WHT_P', 'DP_CHOKE_SIZE', 'BORE_GAS_VOL', 'BORE_WAT_VOL',\n",
       "       'Injection Hours F-4', 'Water Injection F-4', 'Injection Hours F-5',\n",
       "       'Water Injection F-5', 'Total Water Injection', 'BORE_OIL_VOL'],\n",
       "      dtype='object')"
      ]
     },
     "execution_count": 22,
     "metadata": {},
     "output_type": "execute_result"
    }
   ],
   "source": [
    "df.columns"
   ]
  },
  {
   "cell_type": "code",
   "execution_count": 23,
   "metadata": {},
   "outputs": [
    {
     "data": {
      "text/plain": [
       "[<matplotlib.lines.Line2D at 0x25cb70b4d48>]"
      ]
     },
     "execution_count": 23,
     "metadata": {},
     "output_type": "execute_result"
    },
    {
     "data": {
      "image/png": "[encoded data removed]",
      "text/plain": [
       "<Figure size 432x288 with 1 Axes>"
      ]
     },
     "metadata": {
      "needs_background": "light"
     },
     "output_type": "display_data"
    }
   ],
   "source": [
    "plt.plot(df['BORE_OIL_VOL'])"
   ]
  },
  {
   "cell_type": "markdown",
   "metadata": {},
   "source": [
    "## Scatter"
   ]
  },
  {
   "cell_type": "code",
   "execution_count": 24,
   "metadata": {},
   "outputs": [
    {
     "data": {
      "text/plain": [
       "<matplotlib.collections.PathCollection at 0x25cff6b7408>"
      ]
     },
     "execution_count": 24,
     "metadata": {},
     "output_type": "execute_result"
    },
    {
     "data": {
      "image/png": "[encoded data removed]",
      "text/plain": [
       "<Figure size 432x288 with 1 Axes>"
      ]
     },
     "metadata": {
      "needs_background": "light"
     },
     "output_type": "display_data"
    }
   ],
   "source": [
    "plt.scatter(df['ON_STREAM_HRS'],df['BORE_OIL_VOL'])"
   ]
  },
  {
   "cell_type": "code",
   "execution_count": 26,
   "metadata": {},
   "outputs": [
    {
     "data": {
      "text/plain": [
       "<matplotlib.collections.PathCollection at 0x25cffcf6f08>"
      ]
     },
     "execution_count": 26,
     "metadata": {},
     "output_type": "execute_result"
    },
    {
     "data": {
      "image/png": "[encoded data removed]",
      "text/plain": [
       "<Figure size 432x288 with 1 Axes>"
      ]
     },
     "metadata": {
      "needs_background": "light"
     },
     "output_type": "display_data"
    }
   ],
   "source": [
    "plt.scatter(df['BORE_GAS_VOL'],df['BORE_OIL_VOL'])"
   ]
  },
  {
   "cell_type": "code",
   "execution_count": null,
   "metadata": {},
   "outputs": [],
   "source": [
    "oil = "
   ]
  },
  {
   "cell_type": "code",
   "execution_count": 31,
   "metadata": {},
   "outputs": [],
   "source": [
    "a = list(df['BORE_GAS_VOL'])"
   ]
  },
  {
   "cell_type": "code",
   "execution_count": 32,
   "metadata": {},
   "outputs": [
    {
     "data": {
      "text/plain": [
       "[0.0,\n",
       " 0.0,\n",
       " 0.0,\n",
       " 0.0,\n",
       " 0.0,\n",
       " 0.0,\n",
       " 0.0,\n",
       " 0.0,\n",
       " 0.0,\n",
       " 0.0,\n",
       " 0.0,\n",
       " 0.0,\n",
       " 0.0,\n",
       " 0.0,\n",
       " 0.0,\n",
       " 0.0,\n",
       " 0.0,\n",
       " 0.0,\n",
       " 0.0,\n",
       " 0.0,\n",
       " 0.0,\n",
       " 0.0,\n",
       " 0.0,\n",
       " 0.0,\n",
       " 0.0,\n",
       " 0.0,\n",
       " 0.0,\n",
       " 0.0,\n",
       " 0.0,\n",
       " 0.0,\n",
       " 0.0,\n",
       " 0.0,\n",
       " 0.0,\n",
       " 0.0,\n",
       " 0.0,\n",
       " 0.0,\n",
       " 0.0,\n",
       " 0.0,\n",
       " 0.0,\n",
       " 0.0,\n",
       " 0.0,\n",
       " 0.0,\n",
       " 0.0,\n",
       " 0.0,\n",
       " 0.0,\n",
       " 0.0,\n",
       " 0.0,\n",
       " 0.0,\n",
       " 0.0,\n",
       " 0.0,\n",
       " 0.0,\n",
       " 0.0,\n",
       " 0.0,\n",
       " 0.0,\n",
       " 0.0,\n",
       " 0.0,\n",
       " 0.0,\n",
       " 0.0,\n",
       " 0.0,\n",
       " 0.0,\n",
       " 0.0,\n",
       " 0.0,\n",
       " 0.0,\n",
       " 0.0,\n",
       " 0.0,\n",
       " 0.0,\n",
       " 0.0,\n",
       " 0.0,\n",
       " 0.0,\n",
       " 0.0,\n",
       " 0.0,\n",
       " 0.0,\n",
       " 0.0,\n",
       " 0.0,\n",
       " 0.0,\n",
       " 0.0,\n",
       " 0.0,\n",
       " 0.0,\n",
       " 0.0,\n",
       " 0.0,\n",
       " 0.0,\n",
       " 0.0,\n",
       " 0.0,\n",
       " 0.0,\n",
       " 0.0,\n",
       " 0.0,\n",
       " 0.0,\n",
       " 0.0,\n",
       " 0.0,\n",
       " 0.0,\n",
       " 0.0,\n",
       " 0.0,\n",
       " 0.0,\n",
       " 0.0,\n",
       " 0.0,\n",
       " 0.0,\n",
       " 0.0,\n",
       " 0.0,\n",
       " 0.0,\n",
       " 0.0,\n",
       " 0.0,\n",
       " 0.0,\n",
       " 0.0,\n",
       " 0.0,\n",
       " 0.0,\n",
       " 0.0,\n",
       " 0.0,\n",
       " 0.0,\n",
       " 0.0,\n",
       " 0.0,\n",
       " 0.0,\n",
       " 0.0,\n",
       " 0.0,\n",
       " 0.0,\n",
       " 0.0,\n",
       " 0.0,\n",
       " 0.0,\n",
       " 0.0,\n",
       " 0.0,\n",
       " 0.0,\n",
       " 0.0,\n",
       " 0.0,\n",
       " 0.0,\n",
       " 0.0,\n",
       " 0.0,\n",
       " 0.0,\n",
       " 0.0,\n",
       " 0.0,\n",
       " 0.0,\n",
       " 0.0,\n",
       " 0.0,\n",
       " 0.0,\n",
       " 0.0,\n",
       " 0.0,\n",
       " 0.0,\n",
       " 0.0,\n",
       " 0.0,\n",
       " 0.0,\n",
       " 0.0,\n",
       " 0.0,\n",
       " 0.0,\n",
       " 0.0,\n",
       " 0.0,\n",
       " 0.0,\n",
       " 0.0,\n",
       " 0.0,\n",
       " 0.0,\n",
       " 0.0,\n",
       " 0.0,\n",
       " 0.0,\n",
       " 0.0,\n",
       " 0.0,\n",
       " 0.0,\n",
       " 0.0,\n",
       " 0.0,\n",
       " 0.0,\n",
       " 0.0,\n",
       " 0.0,\n",
       " 0.0,\n",
       " 0.0,\n",
       " 0.0,\n",
       " 0.0,\n",
       " 0.0,\n",
       " 0.0,\n",
       " 38889.0,\n",
       " 285246.0,\n",
       " 509955.0,\n",
       " 383427.0,\n",
       " 418474.0,\n",
       " 422763.0,\n",
       " 413831.0,\n",
       " 429218.0,\n",
       " 442983.0,\n",
       " 423809.0,\n",
       " 397808.0,\n",
       " 252078.0,\n",
       " 442808.0,\n",
       " 439178.0,\n",
       " 446905.0,\n",
       " 445616.0,\n",
       " 424674.0,\n",
       " 450348.0,\n",
       " 447584.0,\n",
       " 446144.0,\n",
       " 443726.0,\n",
       " 430247.0,\n",
       " 437688.0,\n",
       " 432727.0,\n",
       " 391265.0,\n",
       " 365769.0,\n",
       " 427791.0,\n",
       " 440679.0,\n",
       " 450972.0,\n",
       " 418887.0,\n",
       " 458524.0,\n",
       " 428015.0,\n",
       " 454137.0,\n",
       " 454798.0,\n",
       " 470240.0,\n",
       " 425284.0,\n",
       " 454093.0,\n",
       " 467466.0,\n",
       " 458447.0,\n",
       " 458028.0,\n",
       " 466335.0,\n",
       " 468480.0,\n",
       " 406562.0,\n",
       " 113341.0,\n",
       " 0.0,\n",
       " 48936.0,\n",
       " 509075.0,\n",
       " 137396.0,\n",
       " 378533.0,\n",
       " 457837.0,\n",
       " 461809.0,\n",
       " 372986.0,\n",
       " 463717.0,\n",
       " 463530.0,\n",
       " 440906.0,\n",
       " 452369.0,\n",
       " 451030.0,\n",
       " 463595.0,\n",
       " 468712.0,\n",
       " 458937.0,\n",
       " 242280.0,\n",
       " 65731.0,\n",
       " 413143.0,\n",
       " 400308.0,\n",
       " 462315.0,\n",
       " 184081.0,\n",
       " 372537.0,\n",
       " 383126.0,\n",
       " 418499.0,\n",
       " 426345.0,\n",
       " 422379.0,\n",
       " 422115.0,\n",
       " 474459.0,\n",
       " 480457.0,\n",
       " 481823.0,\n",
       " 350826.0,\n",
       " 220825.0,\n",
       " 90824.0,\n",
       " 459765.0,\n",
       " 471210.0,\n",
       " 486368.0,\n",
       " 474305.0,\n",
       " 493120.0,\n",
       " 491323.0,\n",
       " 489872.0,\n",
       " 489343.0,\n",
       " 488607.0,\n",
       " 489394.0,\n",
       " 524276.0,\n",
       " 567340.0,\n",
       " 612762.0,\n",
       " 648381.0,\n",
       " 651573.0,\n",
       " 671085.0,\n",
       " 696343.0,\n",
       " 709992.0,\n",
       " 711700.0,\n",
       " 714081.0,\n",
       " 741920.0,\n",
       " 759589.0,\n",
       " 760577.0,\n",
       " 760297.0,\n",
       " 762333.0,\n",
       " 764674.0,\n",
       " 766791.0,\n",
       " 767889.0,\n",
       " 767413.0,\n",
       " 770162.0,\n",
       " 589150.0,\n",
       " 0.0,\n",
       " 11729.0,\n",
       " 603534.0,\n",
       " 755898.0,\n",
       " 764496.0,\n",
       " 768019.0,\n",
       " 763389.0,\n",
       " 761309.0,\n",
       " 761089.0,\n",
       " 762130.0,\n",
       " 761130.0,\n",
       " 760260.0,\n",
       " 757005.0,\n",
       " 754388.0,\n",
       " 651120.0,\n",
       " 763090.0,\n",
       " 764343.0,\n",
       " 756366.0,\n",
       " 765784.0,\n",
       " 766176.0,\n",
       " 702550.0,\n",
       " 750094.0,\n",
       " 769091.0,\n",
       " 765622.0,\n",
       " 766123.0,\n",
       " 767515.0,\n",
       " 639125.0,\n",
       " 762147.0,\n",
       " 711222.0,\n",
       " 768246.0,\n",
       " 659343.0,\n",
       " 599296.0,\n",
       " 766478.0,\n",
       " 762466.0,\n",
       " 761637.0,\n",
       " 761985.0,\n",
       " 762729.0,\n",
       " 764020.0,\n",
       " 764105.0,\n",
       " 762917.0,\n",
       " 691134.0,\n",
       " 426766.0,\n",
       " 151768.0,\n",
       " 606054.0,\n",
       " 573435.0,\n",
       " 635430.0,\n",
       " 521164.0,\n",
       " 482332.0,\n",
       " 474686.0,\n",
       " 481831.0,\n",
       " 466621.0,\n",
       " 466633.0,\n",
       " 465212.0,\n",
       " 463103.0,\n",
       " 471104.0,\n",
       " 460619.0,\n",
       " 461623.0,\n",
       " 465308.0,\n",
       " 460976.0,\n",
       " 490197.0,\n",
       " 355647.0,\n",
       " 339166.0,\n",
       " 436752.0,\n",
       " 445349.0,\n",
       " 438550.0,\n",
       " 452055.0,\n",
       " 437721.0,\n",
       " 135275.0,\n",
       " 123027.5,\n",
       " 110780.0,\n",
       " 559249.0,\n",
       " 603103.0,\n",
       " 611781.0,\n",
       " 616241.0,\n",
       " 620813.0,\n",
       " 651319.0,\n",
       " 673536.0,\n",
       " 799525.0,\n",
       " 795277.0,\n",
       " 810900.0,\n",
       " 801346.0,\n",
       " 728549.0,\n",
       " 647513.0,\n",
       " 290174.0,\n",
       " 291280.0,\n",
       " 294694.0,\n",
       " 293955.0,\n",
       " 293974.0,\n",
       " 295565.0,\n",
       " 305319.0,\n",
       " 318561.0,\n",
       " 297316.0,\n",
       " 86537.0,\n",
       " 284059.0,\n",
       " 116784.0,\n",
       " 0.0,\n",
       " 0.0,\n",
       " 0.0,\n",
       " 105098.0,\n",
       " 304483.0,\n",
       " 69031.0,\n",
       " 0.0,\n",
       " 173053.0,\n",
       " 592089.0,\n",
       " 550256.0,\n",
       " 593840.0,\n",
       " 589478.0,\n",
       " 590019.0,\n",
       " 582279.0,\n",
       " 570002.0,\n",
       " 362080.0,\n",
       " 369110.0,\n",
       " 515386.0,\n",
       " 407045.0,\n",
       " 405958.0,\n",
       " 520319.0,\n",
       " 514832.0,\n",
       " 509448.0,\n",
       " 507354.0,\n",
       " 456679.0,\n",
       " 481430.0,\n",
       " 497305.0,\n",
       " 518528.0,\n",
       " 511856.0,\n",
       " 470881.0,\n",
       " 509509.0,\n",
       " 360306.0,\n",
       " 477920.0,\n",
       " 295621.0,\n",
       " 387130.0,\n",
       " 386724.0,\n",
       " 385384.0,\n",
       " 387184.0,\n",
       " 390609.0,\n",
       " 400415.0,\n",
       " 399787.0,\n",
       " 399680.0,\n",
       " 400424.0,\n",
       " 400175.0,\n",
       " 400159.0,\n",
       " 359282.0,\n",
       " 382646.0,\n",
       " 377858.0,\n",
       " 375510.0,\n",
       " 489182.0,\n",
       " 479918.0,\n",
       " 490794.0,\n",
       " 504092.0,\n",
       " 547535.0,\n",
       " 526226.0,\n",
       " 534003.0,\n",
       " 405405.0,\n",
       " 494826.0,\n",
       " 499794.0,\n",
       " 388670.0,\n",
       " 632394.0,\n",
       " 720457.0,\n",
       " 738155.0,\n",
       " 734343.0,\n",
       " 746223.0,\n",
       " 728626.0,\n",
       " 730423.0,\n",
       " 725815.0,\n",
       " 719058.0,\n",
       " 720766.0,\n",
       " 722185.0,\n",
       " 723021.0,\n",
       " 726188.0,\n",
       " 725356.0,\n",
       " 724025.0,\n",
       " 723171.0,\n",
       " 724334.0,\n",
       " 744776.0,\n",
       " 729921.0,\n",
       " 505370.0,\n",
       " 721489.0,\n",
       " 687856.0,\n",
       " 715583.0,\n",
       " 726974.0,\n",
       " 739602.0,\n",
       " 750704.0,\n",
       " 398091.0,\n",
       " 706716.0,\n",
       " 756829.0,\n",
       " 738451.0,\n",
       " 763664.0,\n",
       " 771334.0,\n",
       " 783689.0,\n",
       " 749253.0,\n",
       " 764102.0,\n",
       " 770155.0,\n",
       " 715216.0,\n",
       " 730268.0,\n",
       " 766437.0,\n",
       " 740305.0,\n",
       " 757727.0,\n",
       " 760767.0,\n",
       " 766324.0,\n",
       " 770085.0,\n",
       " 777261.0,\n",
       " 782191.0,\n",
       " 785912.0,\n",
       " 787882.0,\n",
       " 793712.0,\n",
       " 797068.0,\n",
       " 800167.0,\n",
       " 801713.0,\n",
       " 800808.0,\n",
       " 799405.0,\n",
       " 799580.0,\n",
       " 813071.0,\n",
       " 801586.0,\n",
       " 802974.0,\n",
       " 806227.0,\n",
       " 809027.0,\n",
       " 808293.0,\n",
       " 806596.0,\n",
       " 835981.0,\n",
       " 809543.0,\n",
       " 815241.0,\n",
       " 681104.0,\n",
       " 834503.0,\n",
       " 851132.0,\n",
       " 810727.0,\n",
       " 844193.0,\n",
       " 822490.0,\n",
       " 784575.0,\n",
       " 731457.0,\n",
       " 753891.0,\n",
       " 651055.0,\n",
       " 630122.0,\n",
       " 619822.0,\n",
       " 627031.0,\n",
       " 635623.0,\n",
       " 618234.0,\n",
       " 593845.0,\n",
       " 671066.0,\n",
       " 646278.0,\n",
       " 653051.0,\n",
       " 644233.0,\n",
       " 635969.0,\n",
       " 636018.0,\n",
       " 720845.0,\n",
       " 823507.0,\n",
       " 629756.0,\n",
       " 629044.0,\n",
       " 756467.0,\n",
       " 629467.0,\n",
       " 631333.0,\n",
       " 799783.0,\n",
       " 640815.0,\n",
       " 635863.0,\n",
       " 391983.0,\n",
       " 596271.0,\n",
       " 607654.0,\n",
       " 656413.0,\n",
       " 636708.0,\n",
       " 640120.0,\n",
       " 559545.0,\n",
       " 611414.0,\n",
       " 600565.0,\n",
       " 575669.0,\n",
       " 637411.0,\n",
       " 629921.0,\n",
       " 628409.0,\n",
       " 628915.0,\n",
       " 553168.0,\n",
       " 643689.0,\n",
       " 636959.0,\n",
       " 639993.0,\n",
       " 576611.0,\n",
       " 630101.0,\n",
       " 623045.0,\n",
       " 628758.0,\n",
       " 635770.0,\n",
       " 653794.0,\n",
       " 658570.0,\n",
       " 634594.0,\n",
       " 347738.0,\n",
       " 624326.0,\n",
       " 481719.0,\n",
       " 577223.0,\n",
       " 607750.0,\n",
       " 653842.0,\n",
       " 755860.0,\n",
       " 680831.0,\n",
       " 529095.0,\n",
       " 0.0,\n",
       " 84480.0,\n",
       " 193532.0,\n",
       " 0.0,\n",
       " 483224.0,\n",
       " 604989.0,\n",
       " 588505.0,\n",
       " 620587.0,\n",
       " 619261.0,\n",
       " 605817.0,\n",
       " 607634.0,\n",
       " 103202.0,\n",
       " 0.0,\n",
       " 0.0,\n",
       " 0.0,\n",
       " 0.0,\n",
       " 55070.0,\n",
       " 716135.0,\n",
       " 747833.0,\n",
       " 719978.0,\n",
       " 667776.0,\n",
       " 635782.0,\n",
       " 640610.0,\n",
       " 807878.0,\n",
       " 824316.0,\n",
       " 712609.0,\n",
       " 728733.0,\n",
       " 795764.0,\n",
       " 796029.0,\n",
       " 745573.0,\n",
       " 684273.0,\n",
       " 682920.0,\n",
       " 782450.0,\n",
       " 703143.0,\n",
       " 655223.0,\n",
       " 727182.0,\n",
       " 782955.0,\n",
       " 663644.0,\n",
       " 653196.0,\n",
       " 554652.0,\n",
       " 642694.0,\n",
       " 645291.0,\n",
       " 649841.0,\n",
       " 652521.0,\n",
       " 656677.0,\n",
       " 658770.0,\n",
       " 654544.0,\n",
       " 658250.0,\n",
       " 655718.0,\n",
       " 651353.0,\n",
       " 651464.0,\n",
       " 54731.0,\n",
       " 268248.0,\n",
       " 481765.0,\n",
       " 633204.0,\n",
       " 648869.0,\n",
       " 659614.0,\n",
       " 663300.0,\n",
       " 652509.0,\n",
       " 649889.0,\n",
       " 640887.0,\n",
       " 645463.0,\n",
       " 650507.0,\n",
       " 653197.0,\n",
       " 654569.0,\n",
       " 722111.0,\n",
       " 693436.0,\n",
       " 692348.0,\n",
       " 693070.0,\n",
       " 691705.0,\n",
       " 658095.0,\n",
       " 653572.0,\n",
       " 666996.0,\n",
       " 674399.0,\n",
       " 676600.0,\n",
       " 679290.0,\n",
       " 728393.0,\n",
       " 745583.0,\n",
       " 744218.0,\n",
       " 755886.0,\n",
       " 758528.0,\n",
       " 804359.0,\n",
       " 750905.0,\n",
       " 754131.0,\n",
       " 530741.0,\n",
       " 703839.0,\n",
       " 727883.0,\n",
       " 726693.0,\n",
       " 721518.0,\n",
       " 553284.0,\n",
       " 653040.0,\n",
       " 546460.0,\n",
       " 616524.0,\n",
       " 670506.0,\n",
       " 696077.0,\n",
       " 663614.0,\n",
       " 670508.0,\n",
       " 676839.0,\n",
       " 684149.0,\n",
       " 457373.0,\n",
       " 448830.0,\n",
       " 455038.0,\n",
       " 455482.0,\n",
       " 432800.0,\n",
       " 387729.0,\n",
       " 368588.0,\n",
       " 367739.0,\n",
       " 374705.0,\n",
       " 373706.0,\n",
       " 372698.0,\n",
       " 371158.0,\n",
       " 370129.0,\n",
       " 367253.0,\n",
       " 368058.0,\n",
       " 463342.0,\n",
       " 460569.0,\n",
       " 489972.0,\n",
       " 490054.0,\n",
       " 487960.0,\n",
       " 491136.0,\n",
       " 493410.0,\n",
       " 495857.0,\n",
       " 489459.0,\n",
       " 480363.0,\n",
       " 478180.0,\n",
       " 484482.0,\n",
       " 389613.0,\n",
       " 386647.0,\n",
       " 481045.0,\n",
       " 523126.0,\n",
       " 525946.0,\n",
       " 521504.0,\n",
       " 523260.0,\n",
       " 529699.0,\n",
       " 529145.0,\n",
       " 526019.0,\n",
       " 532080.0,\n",
       " 534577.0,\n",
       " 536801.0,\n",
       " 528426.0,\n",
       " 529971.0,\n",
       " 239746.0,\n",
       " 126523.0,\n",
       " 13300.0,\n",
       " 616385.0,\n",
       " 647439.0,\n",
       " 604384.0,\n",
       " 354292.0,\n",
       " 603300.0,\n",
       " 612100.0,\n",
       " 614368.0,\n",
       " 636082.0,\n",
       " 628769.0,\n",
       " 640028.0,\n",
       " 653955.0,\n",
       " 662262.0,\n",
       " 664475.0,\n",
       " 665022.0,\n",
       " 667425.0,\n",
       " 668449.0,\n",
       " 666778.0,\n",
       " 666528.0,\n",
       " 666189.0,\n",
       " 670318.0,\n",
       " 688051.0,\n",
       " 372319.0,\n",
       " 528401.0,\n",
       " 652606.0,\n",
       " 43408.0,\n",
       " 0.0,\n",
       " 0.0,\n",
       " 0.0,\n",
       " 0.0,\n",
       " 0.0,\n",
       " 0.0,\n",
       " 153307.0,\n",
       " 349063.0,\n",
       " 707675.0,\n",
       " 638461.0,\n",
       " 603564.0,\n",
       " 601873.0,\n",
       " 608018.0,\n",
       " 620413.0,\n",
       " 623901.0,\n",
       " 623859.0,\n",
       " 635907.0,\n",
       " 632118.0,\n",
       " 625324.0,\n",
       " 629714.0,\n",
       " 581271.0,\n",
       " 460548.0,\n",
       " 586031.0,\n",
       " 585044.0,\n",
       " 602914.0,\n",
       " 655592.0,\n",
       " 708322.0,\n",
       " 319211.0,\n",
       " 1292.0,\n",
       " 0.0,\n",
       " 0.0,\n",
       " 0.0,\n",
       " 529790.0,\n",
       " 687689.0,\n",
       " 703025.0,\n",
       " 706392.0,\n",
       " 709306.0,\n",
       " 611183.0,\n",
       " 646991.0,\n",
       " 636428.0,\n",
       " 620759.0,\n",
       " 622663.0,\n",
       " 620058.0,\n",
       " 623072.0,\n",
       " 526029.0,\n",
       " 599091.0,\n",
       " 516545.0,\n",
       " 656308.0,\n",
       " 181700.0,\n",
       " 585096.0,\n",
       " 608788.0,\n",
       " 607253.0,\n",
       " 605896.0,\n",
       " 605509.0,\n",
       " 218604.0,\n",
       " 32885.0,\n",
       " 585516.0,\n",
       " 602824.0,\n",
       " 603085.0,\n",
       " 603774.0,\n",
       " 593576.0,\n",
       " 692871.0,\n",
       " 676986.0,\n",
       " 678487.0,\n",
       " 675577.0,\n",
       " 675254.0,\n",
       " 445344.0,\n",
       " 620795.0,\n",
       " 617191.0,\n",
       " 623010.0,\n",
       " 625588.0,\n",
       " 572180.0,\n",
       " 594946.0,\n",
       " 617864.0,\n",
       " 618895.0,\n",
       " 623604.0,\n",
       " 620426.0,\n",
       " 626210.0,\n",
       " 636383.0,\n",
       " 666975.0,\n",
       " 687647.0,\n",
       " 684781.0,\n",
       " 564352.0,\n",
       " 685493.0,\n",
       " 683921.0,\n",
       " 556602.0,\n",
       " 585995.0,\n",
       " 680811.0,\n",
       " 692848.0,\n",
       " 690194.0,\n",
       " 688774.0,\n",
       " 726587.0,\n",
       " 714850.0,\n",
       " 711209.0,\n",
       " 714501.0,\n",
       " 713782.0,\n",
       " 774012.0,\n",
       " 732245.0,\n",
       " 744580.0,\n",
       " 767621.0,\n",
       " 785561.0,\n",
       " 781601.0,\n",
       " 773989.0,\n",
       " 767199.0,\n",
       " 763675.0,\n",
       " 706497.0,\n",
       " 754743.0,\n",
       " 776432.0,\n",
       " 749752.0,\n",
       " 705592.0,\n",
       " 348482.0,\n",
       " 469681.0,\n",
       " 583872.0,\n",
       " 739005.0,\n",
       " 743749.0,\n",
       " 715681.0,\n",
       " 703200.0,\n",
       " 723179.0,\n",
       " 719081.0,\n",
       " 711628.0,\n",
       " 738484.0,\n",
       " 739635.0,\n",
       " 738861.0,\n",
       " 763335.0,\n",
       " 736985.0,\n",
       " 735526.0,\n",
       " 732785.0,\n",
       " 730336.0,\n",
       " 731148.0,\n",
       " 729366.0,\n",
       " 728598.0,\n",
       " 727881.0,\n",
       " 592005.0,\n",
       " 720908.0,\n",
       " 722935.0,\n",
       " 722042.0,\n",
       " 718018.0,\n",
       " 712516.0,\n",
       " 704358.0,\n",
       " 694861.0,\n",
       " 685493.0,\n",
       " 654091.0,\n",
       " 648792.0,\n",
       " 645711.0,\n",
       " 643438.0,\n",
       " 641683.0,\n",
       " 585272.0,\n",
       " 637971.0,\n",
       " 642489.0,\n",
       " 567279.0,\n",
       " 620160.0,\n",
       " 648793.0,\n",
       " 660019.0,\n",
       " 662547.0,\n",
       " 660598.0,\n",
       " 655437.0,\n",
       " 639512.0,\n",
       " 625089.0,\n",
       " 583843.0,\n",
       " 597778.0,\n",
       " 595404.0,\n",
       " 587079.0,\n",
       " 608912.0,\n",
       " 604875.0,\n",
       " 598834.0,\n",
       " 576166.0,\n",
       " 533211.0,\n",
       " 513995.0,\n",
       " 295953.0,\n",
       " 281383.0,\n",
       " 576670.0,\n",
       " 567407.0,\n",
       " 450951.0,\n",
       " 565795.0,\n",
       " 554371.0,\n",
       " 566968.0,\n",
       " 562626.0,\n",
       " 496991.0,\n",
       " 568508.0,\n",
       " 467360.0,\n",
       " 412151.0,\n",
       " 433320.0,\n",
       " 288880.0,\n",
       " 144440.0,\n",
       " 0.0,\n",
       " 478306.0,\n",
       " 573525.0,\n",
       " 556183.0,\n",
       " 475404.0,\n",
       " 404631.5,\n",
       " 333859.0,\n",
       " 599227.0,\n",
       " 587889.0,\n",
       " 485685.0,\n",
       " 359847.0,\n",
       " 536775.0,\n",
       " 543771.0,\n",
       " 545239.0,\n",
       " 527216.0,\n",
       " 535713.0,\n",
       " 573531.0,\n",
       " 543343.0,\n",
       " 537024.0,\n",
       " 533776.0,\n",
       " 482477.0,\n",
       " 483316.0,\n",
       " 481386.0,\n",
       " 484059.0,\n",
       " 497798.0,\n",
       " 507921.0,\n",
       " 495565.0,\n",
       " 528780.0,\n",
       " 494749.0,\n",
       " 496156.0,\n",
       " 119261.0,\n",
       " 494941.0,\n",
       " 448583.0,\n",
       " 491689.0,\n",
       " 484318.0,\n",
       " 473561.0,\n",
       " 472636.0,\n",
       " 455298.0,\n",
       " 445620.0,\n",
       " 439986.0,\n",
       " 436803.0,\n",
       " 435014.0,\n",
       " 435422.0,\n",
       " 447505.0,\n",
       " 449867.0,\n",
       " 455115.0,\n",
       " 400337.0,\n",
       " 438646.0,\n",
       " 453679.0,\n",
       " 473052.0,\n",
       " 412428.0,\n",
       " 411157.0,\n",
       " 415792.0,\n",
       " 359254.0,\n",
       " 297182.0,\n",
       " 233630.0,\n",
       " 355952.0,\n",
       " 256518.0,\n",
       " 302185.0,\n",
       " 365718.0,\n",
       " 367984.0,\n",
       " 374436.0,\n",
       " 375797.0,\n",
       " 215982.0,\n",
       " 362885.0,\n",
       " 358552.0,\n",
       " 353907.0,\n",
       " 352485.0,\n",
       " 351180.0,\n",
       " 393105.0,\n",
       " 390316.0,\n",
       " 373904.0,\n",
       " 383273.0,\n",
       " 387667.0,\n",
       " 385414.0,\n",
       " 383866.0,\n",
       " 381680.0,\n",
       " 377152.0,\n",
       " 367958.0,\n",
       " 364275.0,\n",
       " 361268.0,\n",
       " 361753.0,\n",
       " 357574.0,\n",
       " 357401.0,\n",
       " 355614.0,\n",
       " 353860.0,\n",
       " 346659.0,\n",
       " ...]"
      ]
     },
     "execution_count": 32,
     "metadata": {},
     "output_type": "execute_result"
    }
   ],
   "source": [
    "a"
   ]
  },
  {
   "cell_type": "code",
   "execution_count": 34,
   "metadata": {},
   "outputs": [
    {
     "data": {
      "text/plain": [
       "[<matplotlib.lines.Line2D at 0x25cffeb59c8>]"
      ]
     },
     "execution_count": 34,
     "metadata": {},
     "output_type": "execute_result"
    },
    {
     "data": {
      "image/png": "[encoded data removed]",
      "text/plain": [
       "<Figure size 432x288 with 1 Axes>"
      ]
     },
     "metadata": {
      "needs_background": "light"
     },
     "output_type": "display_data"
    }
   ],
   "source": [
    "plt.plot(a,df['BORE_OIL_VOL'])"
   ]
  },
  {
   "cell_type": "code",
   "execution_count": 25,
   "metadata": {},
   "outputs": [
    {
     "data": {
      "text/plain": [
       "[<matplotlib.lines.Line2D at 0x25cffce1488>]"
      ]
     },
     "execution_count": 25,
     "metadata": {},
     "output_type": "execute_result"
    },
    {
     "data": {
      "image/png": "[encoded data removed]",
      "text/plain": [
       "<Figure size 432x288 with 1 Axes>"
      ]
     },
     "metadata": {
      "needs_background": "light"
     },
     "output_type": "display_data"
    }
   ],
   "source": [
    "plt.plot(df['ON_STREAM_HRS'],df['BORE_OIL_VOL'])"
   ]
  },
  {
   "cell_type": "code",
   "execution_count": 53,
   "metadata": {},
   "outputs": [],
   "source": [
    "phi_sst = np.random.normal(loc=25,scale=10,size=100)\n",
    "phi_lst = np.random.normal(loc=15,scale=5,size=100)\n",
    "\n"
   ]
  },
  {
   "cell_type": "code",
   "execution_count": 54,
   "metadata": {},
   "outputs": [],
   "source": [
    "df_phi = pd.DataFrame({'Sst_Poro':phi_sst,'LST_poro':phi_lst})"
   ]
  },
  {
   "cell_type": "code",
   "execution_count": 55,
   "metadata": {},
   "outputs": [
    {
     "data": {
      "text/html": [
       "<div>\n",
       "<style scoped>\n",
       "    .dataframe tbody tr th:only-of-type {\n",
       "        vertical-align: middle;\n",
       "    }\n",
       "\n",
       "    .dataframe tbody tr th {\n",
       "        vertical-align: top;\n",
       "    }\n",
       "\n",
       "    .dataframe thead th {\n",
       "        text-align: right;\n",
       "    }\n",
       "</style>\n",
       "<table border=\"1\" class=\"dataframe\">\n",
       "  <thead>\n",
       "    <tr style=\"text-align: right;\">\n",
       "      <th></th>\n",
       "      <th>Sst_Poro</th>\n",
       "      <th>LST_poro</th>\n",
       "    </tr>\n",
       "  </thead>\n",
       "  <tbody>\n",
       "    <tr>\n",
       "      <th>0</th>\n",
       "      <td>28.941114</td>\n",
       "      <td>10.233266</td>\n",
       "    </tr>\n",
       "    <tr>\n",
       "      <th>1</th>\n",
       "      <td>25.511166</td>\n",
       "      <td>23.561904</td>\n",
       "    </tr>\n",
       "    <tr>\n",
       "      <th>2</th>\n",
       "      <td>34.310925</td>\n",
       "      <td>17.476222</td>\n",
       "    </tr>\n",
       "    <tr>\n",
       "      <th>3</th>\n",
       "      <td>14.540655</td>\n",
       "      <td>16.242161</td>\n",
       "    </tr>\n",
       "    <tr>\n",
       "      <th>4</th>\n",
       "      <td>34.730780</td>\n",
       "      <td>20.267174</td>\n",
       "    </tr>\n",
       "    <tr>\n",
       "      <th>...</th>\n",
       "      <td>...</td>\n",
       "      <td>...</td>\n",
       "    </tr>\n",
       "    <tr>\n",
       "      <th>95</th>\n",
       "      <td>12.856426</td>\n",
       "      <td>13.398592</td>\n",
       "    </tr>\n",
       "    <tr>\n",
       "      <th>96</th>\n",
       "      <td>38.470138</td>\n",
       "      <td>11.489089</td>\n",
       "    </tr>\n",
       "    <tr>\n",
       "      <th>97</th>\n",
       "      <td>21.985386</td>\n",
       "      <td>17.830163</td>\n",
       "    </tr>\n",
       "    <tr>\n",
       "      <th>98</th>\n",
       "      <td>21.549007</td>\n",
       "      <td>19.313614</td>\n",
       "    </tr>\n",
       "    <tr>\n",
       "      <th>99</th>\n",
       "      <td>35.149345</td>\n",
       "      <td>13.522255</td>\n",
       "    </tr>\n",
       "  </tbody>\n",
       "</table>\n",
       "<p>100 rows × 2 columns</p>\n",
       "</div>"
      ],
      "text/plain": [
       "     Sst_Poro   LST_poro\n",
       "0   28.941114  10.233266\n",
       "1   25.511166  23.561904\n",
       "2   34.310925  17.476222\n",
       "3   14.540655  16.242161\n",
       "4   34.730780  20.267174\n",
       "..        ...        ...\n",
       "95  12.856426  13.398592\n",
       "96  38.470138  11.489089\n",
       "97  21.985386  17.830163\n",
       "98  21.549007  19.313614\n",
       "99  35.149345  13.522255\n",
       "\n",
       "[100 rows x 2 columns]"
      ]
     },
     "execution_count": 55,
     "metadata": {},
     "output_type": "execute_result"
    }
   ],
   "source": [
    "df_phi"
   ]
  },
  {
   "cell_type": "code",
   "execution_count": 56,
   "metadata": {},
   "outputs": [
    {
     "data": {
      "text/plain": [
       "(array([ 4., 10.,  6., 18., 17., 11., 15., 12.,  6.,  1.]),\n",
       " array([ 8.51571883, 12.10051511, 15.6853114 , 19.27010768, 22.85490396,\n",
       "        26.43970024, 30.02449652, 33.6092928 , 37.19408909, 40.77888537,\n",
       "        44.36368165]),\n",
       " <BarContainer object of 10 artists>)"
      ]
     },
     "execution_count": 56,
     "metadata": {},
     "output_type": "execute_result"
    },
    {
     "data": {
      "image/png": "[encoded data removed]",
      "text/plain": [
       "<Figure size 432x288 with 1 Axes>"
      ]
     },
     "metadata": {
      "needs_background": "light"
     },
     "output_type": "display_data"
    }
   ],
   "source": [
    "#Histogram: Distribution of Qttive data\n",
    "plt.hist(df_phi['Sst_Poro'])"
   ]
  },
  {
   "cell_type": "code",
   "execution_count": 57,
   "metadata": {},
   "outputs": [
    {
     "data": {
      "text/plain": [
       "(array([ 3.,  3.,  6., 17., 18., 17., 18., 10.,  3.,  5.]),\n",
       " array([ 3.53793696,  5.71294522,  7.88795349, 10.06296176, 12.23797002,\n",
       "        14.41297829, 16.58798655, 18.76299482, 20.93800308, 23.11301135,\n",
       "        25.28801962]),\n",
       " <BarContainer object of 10 artists>)"
      ]
     },
     "execution_count": 57,
     "metadata": {},
     "output_type": "execute_result"
    },
    {
     "data": {
      "image/png": "[encoded data removed]",
      "text/plain": [
       "<Figure size 432x288 with 1 Axes>"
      ]
     },
     "metadata": {
      "needs_background": "light"
     },
     "output_type": "display_data"
    }
   ],
   "source": [
    "plt.hist(df_phi['LST_poro'])"
   ]
  },
  {
   "cell_type": "code",
   "execution_count": 58,
   "metadata": {},
   "outputs": [
    {
     "data": {
      "text/plain": [
       "(array([ 3.,  3.,  6., 17., 18., 17., 18., 10.,  3.,  5.]),\n",
       " array([ 3.53793696,  5.71294522,  7.88795349, 10.06296176, 12.23797002,\n",
       "        14.41297829, 16.58798655, 18.76299482, 20.93800308, 23.11301135,\n",
       "        25.28801962]),\n",
       " <BarContainer object of 10 artists>)"
      ]
     },
     "execution_count": 58,
     "metadata": {},
     "output_type": "execute_result"
    },
    {
     "data": {
      "image/png": "[encoded data removed]",
      "text/plain": [
       "<Figure size 432x288 with 1 Axes>"
      ]
     },
     "metadata": {
      "needs_background": "light"
     },
     "output_type": "display_data"
    }
   ],
   "source": [
    "plt.hist(df_phi['Sst_Poro'])\n",
    "plt.hist(df_phi['LST_poro'])"
   ]
  },
  {
   "cell_type": "code",
   "execution_count": 59,
   "metadata": {},
   "outputs": [
    {
     "data": {
      "text/plain": [
       "<matplotlib.legend.Legend at 0x25cb8c54f88>"
      ]
     },
     "execution_count": 59,
     "metadata": {},
     "output_type": "execute_result"
    },
    {
     "data": {
      "image/png": "[encoded data removed]",
      "text/plain": [
       "<Figure size 720x432 with 1 Axes>"
      ]
     },
     "metadata": {
      "needs_background": "light"
     },
     "output_type": "display_data"
    }
   ],
   "source": [
    "plt.figure(figsize=(10,6))\n",
    "plt.hist(df_phi['Sst_Poro'],label='Sandstone Porosity(%)',alpha = 0.5)\n",
    "plt.hist(df_phi['LST_poro'],label='Limestone Porosity(%)',alpha = 0.5)\n",
    "plt.grid()\n",
    "plt.legend()"
   ]
  },
  {
   "cell_type": "code",
   "execution_count": 60,
   "metadata": {},
   "outputs": [
    {
     "data": {
      "text/plain": [
       "<matplotlib.legend.Legend at 0x25cb8dca208>"
      ]
     },
     "execution_count": 60,
     "metadata": {},
     "output_type": "execute_result"
    },
    {
     "data": {
      "image/png": "[encoded data removed]",
      "text/plain": [
       "<Figure size 720x432 with 1 Axes>"
      ]
     },
     "metadata": {
      "needs_background": "light"
     },
     "output_type": "display_data"
    }
   ],
   "source": [
    "plt.figure(figsize=(10,6))\n",
    "plt.hist(df_phi['Sst_Poro'],label='Sandstone Porosity(%)',alpha = 0.5)\n",
    "plt.hist(df_phi['LST_poro'],label='Limestone Porosity(%)',alpha = 0.5)\n",
    "\n",
    "plt.ylabel('Frequency of Occurence of Porosity values',color = 'red')\n",
    "\n",
    "plt.grid()\n",
    "plt.legend()"
   ]
  },
  {
   "cell_type": "code",
   "execution_count": 61,
   "metadata": {},
   "outputs": [
    {
     "data": {
      "text/plain": [
       "<matplotlib.legend.Legend at 0x25cffbb9bc8>"
      ]
     },
     "execution_count": 61,
     "metadata": {},
     "output_type": "execute_result"
    },
    {
     "data": {
      "image/png": "[encoded data removed]",
      "text/plain": [
       "<Figure size 720x432 with 1 Axes>"
      ]
     },
     "metadata": {
      "needs_background": "light"
     },
     "output_type": "display_data"
    }
   ],
   "source": [
    "plt.figure(figsize=(10,6))\n",
    "plt.hist(df_phi['Sst_Poro'],label='Sandstone Porosity(%)',alpha = 0.5)\n",
    "plt.hist(df_phi['LST_poro'],label='Limestone Porosity(%)',alpha = 0.5)\n",
    "\n",
    "plt.ylabel('Frequency of Occurence of Porosity values',color = 'red')\n",
    "plt.xlabel('Porosity(%)',color = 'brown',size=15)\n",
    "plt.grid()\n",
    "plt.legend()"
   ]
  },
  {
   "cell_type": "code",
   "execution_count": 62,
   "metadata": {},
   "outputs": [
    {
     "data": {
      "text/plain": [
       "<matplotlib.legend.Legend at 0x25cb8e59548>"
      ]
     },
     "execution_count": 62,
     "metadata": {},
     "output_type": "execute_result"
    },
    {
     "data": {
      "image/png": "[encoded data removed]",
      "text/plain": [
       "<Figure size 720x432 with 1 Axes>"
      ]
     },
     "metadata": {
      "needs_background": "light"
     },
     "output_type": "display_data"
    }
   ],
   "source": [
    "plt.figure(figsize=(10,6))\n",
    "plt.hist(df_phi['Sst_Poro'],label='Sandstone Porosity(%)',alpha = 0.5)\n",
    "plt.hist(df_phi['LST_poro'],label='Limestone Porosity(%)',alpha = 0.5)\n",
    "\n",
    "plt.ylabel('Frequency of Occurence of Porosity values',color = 'red')\n",
    "plt.xlabel('Porosity(%)',color = 'brown',size=15)\n",
    "plt.grid()\n",
    "plt.title('Ditribution of Porosities')\n",
    "\n",
    "plt.legend()"
   ]
  },
  {
   "cell_type": "code",
   "execution_count": 65,
   "metadata": {},
   "outputs": [
    {
     "data": {
      "text/plain": [
       "Sst_Poro    44.363682\n",
       "LST_poro    25.288020\n",
       "dtype: float64"
      ]
     },
     "execution_count": 65,
     "metadata": {},
     "output_type": "execute_result"
    }
   ],
   "source": []
  },
  {
   "cell_type": "code",
   "execution_count": 66,
   "metadata": {},
   "outputs": [
    {
     "data": {
      "text/plain": [
       "<matplotlib.legend.Legend at 0x25cba299f88>"
      ]
     },
     "execution_count": 66,
     "metadata": {},
     "output_type": "execute_result"
    },
    {
     "data": {
      "image/png": "[encoded data removed]",
      "text/plain": [
       "<Figure size 720x432 with 1 Axes>"
      ]
     },
     "metadata": {
      "needs_background": "light"
     },
     "output_type": "display_data"
    }
   ],
   "source": [
    "plt.figure(figsize=(10,6))\n",
    "plt.hist(df_phi['Sst_Poro'],label='Sandstone Porosity(%)',alpha = 0.5)\n",
    "plt.hist(df_phi['LST_poro'],label='Limestone Porosity(%)',alpha = 0.5)\n",
    "\n",
    "plt.ylabel('Frequency of Occurence of Porosity values',color = 'red')\n",
    "plt.xlabel('Porosity(%)',color = 'brown',size=15)\n",
    "plt.grid()\n",
    "\n",
    "plt.axvline(x=0,label = 'Min-Theoritical Porosity',color = 'red')\n",
    "plt.axvline(x=40,label = 'Max-Theoritical Porosity',color = 'red')\n",
    "\n",
    "plt.axhline(y=18,label = 'Max Frequency',color = 'Green')\n",
    "\n",
    "\n",
    "plt.title('Ditribution of Porosities')\n",
    "plt.legend()"
   ]
  },
  {
   "cell_type": "markdown",
   "metadata": {},
   "source": [
    "## Boxplot"
   ]
  },
  {
   "cell_type": "code",
   "execution_count": 68,
   "metadata": {},
   "outputs": [
    {
     "name": "stderr",
     "output_type": "stream",
     "text": [
      "C:\\Users\\acer\\Anaconda3\\lib\\site-packages\\seaborn\\_decorators.py:43: FutureWarning: Pass the following variable as a keyword arg: x. From version 0.12, the only valid positional argument will be `data`, and passing other arguments without an explicit keyword will result in an error or misinterpretation.\n",
      "  FutureWarning\n"
     ]
    },
    {
     "data": {
      "text/plain": [
       "<AxesSubplot:xlabel='LST_poro'>"
      ]
     },
     "execution_count": 68,
     "metadata": {},
     "output_type": "execute_result"
    },
    {
     "data": {
      "image/png": "[encoded data removed]",
      "text/plain": [
       "<Figure size 432x288 with 1 Axes>"
      ]
     },
     "metadata": {
      "needs_background": "light"
     },
     "output_type": "display_data"
    }
   ],
   "source": [
    "sns.boxplot(df_phi['LST_poro'])"
   ]
  },
  {
   "cell_type": "code",
   "execution_count": 67,
   "metadata": {},
   "outputs": [
    {
     "name": "stderr",
     "output_type": "stream",
     "text": [
      "C:\\Users\\acer\\Anaconda3\\lib\\site-packages\\seaborn\\_decorators.py:43: FutureWarning: Pass the following variable as a keyword arg: x. From version 0.12, the only valid positional argument will be `data`, and passing other arguments without an explicit keyword will result in an error or misinterpretation.\n",
      "  FutureWarning\n"
     ]
    },
    {
     "data": {
      "text/plain": [
       "<AxesSubplot:xlabel='Sst_Poro'>"
      ]
     },
     "execution_count": 67,
     "metadata": {},
     "output_type": "execute_result"
    },
    {
     "data": {
      "image/png": "[encoded data removed]",
      "text/plain": [
       "<Figure size 432x288 with 1 Axes>"
      ]
     },
     "metadata": {
      "needs_background": "light"
     },
     "output_type": "display_data"
    }
   ],
   "source": [
    "sns.boxplot(df_phi['Sst_Poro'])"
   ]
  },
  {
   "cell_type": "code",
   "execution_count": 69,
   "metadata": {},
   "outputs": [
    {
     "data": {
      "text/plain": [
       "25.22582073599647"
      ]
     },
     "execution_count": 69,
     "metadata": {},
     "output_type": "execute_result"
    }
   ],
   "source": [
    "df_phi['Sst_Poro'].quantile(0.5)"
   ]
  },
  {
   "cell_type": "code",
   "execution_count": 71,
   "metadata": {},
   "outputs": [
    {
     "data": {
      "text/plain": [
       "32.04340728121618"
      ]
     },
     "execution_count": 71,
     "metadata": {},
     "output_type": "execute_result"
    }
   ],
   "source": [
    "df_phi['Sst_Poro'].quantile(0.75)"
   ]
  },
  {
   "cell_type": "code",
   "execution_count": 72,
   "metadata": {},
   "outputs": [
    {
     "name": "stderr",
     "output_type": "stream",
     "text": [
      "C:\\Users\\acer\\Anaconda3\\lib\\site-packages\\seaborn\\_decorators.py:43: FutureWarning: Pass the following variable as a keyword arg: x. From version 0.12, the only valid positional argument will be `data`, and passing other arguments without an explicit keyword will result in an error or misinterpretation.\n",
      "  FutureWarning\n"
     ]
    },
    {
     "data": {
      "text/plain": [
       "<matplotlib.lines.Line2D at 0x25cba467e08>"
      ]
     },
     "execution_count": 72,
     "metadata": {},
     "output_type": "execute_result"
    },
    {
     "data": {
      "image/png": "[encoded data removed]",
      "text/plain": [
       "<Figure size 432x288 with 1 Axes>"
      ]
     },
     "metadata": {
      "needs_background": "light"
     },
     "output_type": "display_data"
    }
   ],
   "source": [
    "sns.boxplot(df_phi['Sst_Poro'])\n",
    "plt.axvline(df_phi['Sst_Poro'].quantile(0.5),color = 'red')"
   ]
  },
  {
   "cell_type": "code",
   "execution_count": 73,
   "metadata": {},
   "outputs": [
    {
     "name": "stderr",
     "output_type": "stream",
     "text": [
      "C:\\Users\\acer\\Anaconda3\\lib\\site-packages\\seaborn\\_decorators.py:43: FutureWarning: Pass the following variable as a keyword arg: x. From version 0.12, the only valid positional argument will be `data`, and passing other arguments without an explicit keyword will result in an error or misinterpretation.\n",
      "  FutureWarning\n"
     ]
    },
    {
     "data": {
      "text/plain": [
       "<matplotlib.lines.Line2D at 0x25cbb256308>"
      ]
     },
     "execution_count": 73,
     "metadata": {},
     "output_type": "execute_result"
    },
    {
     "data": {
      "image/png": "[encoded data removed]",
      "text/plain": [
       "<Figure size 432x288 with 1 Axes>"
      ]
     },
     "metadata": {
      "needs_background": "light"
     },
     "output_type": "display_data"
    }
   ],
   "source": [
    "sns.boxplot(df_phi['Sst_Poro'])\n",
    "\n",
    "plt.axvline(df_phi['Sst_Poro'].quantile(0.25),color = 'red')\n",
    "plt.axvline(df_phi['Sst_Poro'].quantile(0.5),color = 'red')\n",
    "plt.axvline(df_phi['Sst_Poro'].quantile(0.75),color = 'red')\n",
    "\n",
    "plt.axvline(df_phi['Sst_Poro'].max(),color = 'Green')\n",
    "plt.axvline(df_phi['Sst_Poro'].min(),color = 'Green')\n",
    "\n",
    "\n"
   ]
  },
  {
   "cell_type": "code",
   "execution_count": 74,
   "metadata": {},
   "outputs": [
    {
     "data": {
      "text/plain": [
       "44.363681649534215"
      ]
     },
     "execution_count": 74,
     "metadata": {},
     "output_type": "execute_result"
    }
   ],
   "source": [
    "df_phi['Sst_Poro'].max()"
   ]
  },
  {
   "cell_type": "code",
   "execution_count": 75,
   "metadata": {},
   "outputs": [
    {
     "name": "stderr",
     "output_type": "stream",
     "text": [
      "C:\\Users\\acer\\Anaconda3\\lib\\site-packages\\seaborn\\_decorators.py:43: FutureWarning: Pass the following variable as a keyword arg: x. From version 0.12, the only valid positional argument will be `data`, and passing other arguments without an explicit keyword will result in an error or misinterpretation.\n",
      "  FutureWarning\n",
      "C:\\Users\\acer\\Anaconda3\\lib\\site-packages\\seaborn\\_decorators.py:43: FutureWarning: Pass the following variable as a keyword arg: x. From version 0.12, the only valid positional argument will be `data`, and passing other arguments without an explicit keyword will result in an error or misinterpretation.\n",
      "  FutureWarning\n"
     ]
    },
    {
     "data": {
      "text/plain": [
       "<AxesSubplot:xlabel='LST_poro'>"
      ]
     },
     "execution_count": 75,
     "metadata": {},
     "output_type": "execute_result"
    },
    {
     "data": {
      "image/png": "[encoded data removed]",
      "text/plain": [
       "<Figure size 432x288 with 1 Axes>"
      ]
     },
     "metadata": {
      "needs_background": "light"
     },
     "output_type": "display_data"
    }
   ],
   "source": [
    "sns.boxplot(df_phi['Sst_Poro'])\n",
    "sns.boxplot(df_phi['LST_poro'],color = 'orange')\n"
   ]
  },
  {
   "cell_type": "markdown",
   "metadata": {},
   "source": [
    "## Subplots = Multiple plots next to each other"
   ]
  },
  {
   "cell_type": "code",
   "execution_count": 77,
   "metadata": {},
   "outputs": [
    {
     "data": {
      "text/plain": [
       "(array([100., 100., 100., 100., 100., 100., 100., 100., 100., 100.]),\n",
       " array([  1. ,  10.9,  20.8,  30.7,  40.6,  50.5,  60.4,  70.3,  80.2,\n",
       "         90.1, 100. ]),\n",
       " <BarContainer object of 10 artists>)"
      ]
     },
     "execution_count": 77,
     "metadata": {},
     "output_type": "execute_result"
    },
    {
     "data": {
      "image/png": "[encoded data removed]",
      "text/plain": [
       "<Figure size 720x432 with 4 Axes>"
      ]
     },
     "metadata": {
      "needs_background": "light"
     },
     "output_type": "display_data"
    }
   ],
   "source": [
    "fig,axs = plt.subplots(nrows=2,ncols=2)\n",
    "\n",
    "fig.set_figheight(6);fig.set_figwidth(10)\n",
    "\n",
    "x_data = np.linspace(1,100,1000)\n",
    "\n",
    "axs[0,0].plot(x_data,x_data**1,label='Power = 1') # y = x\n",
    "axs[0,0].set_title('Power =1')\n",
    "axs[0,0].grid()\n",
    "\n",
    "\n",
    "axs[0,1].scatter(x_data,x_data**2,label='Power = 2') #y = x^2\n",
    "\n",
    "\n",
    "\n",
    "\n",
    "axs[1,0].plot(df['BORE_OIL_VOL'],label='Power = 3') # y=x^3\n",
    "\n",
    "\n",
    "\n",
    "\n",
    "axs[1,1].hist(x_data,label='Power = 4') # y = x^4\n"
   ]
  },
  {
   "cell_type": "markdown",
   "metadata": {},
   "source": [
    "## Scatter Matrix: All data comparison\n",
    "\n",
    "- Scatters for different features\n",
    "- Histogram from same feature"
   ]
  },
  {
   "cell_type": "code",
   "execution_count": null,
   "metadata": {},
   "outputs": [],
   "source": [
    "from pandas.plotting import scatter_matrix"
   ]
  },
  {
   "cell_type": "code",
   "execution_count": null,
   "metadata": {},
   "outputs": [],
   "source": [
    "df.columns"
   ]
  },
  {
   "cell_type": "code",
   "execution_count": null,
   "metadata": {},
   "outputs": [],
   "source": [
    "df = df[['ON_STREAM_HRS','AVG_DOWNHOLE_PRESSURE', 'AVG_DOWNHOLE_TEMPERATURE', 'AVG_DP_TUBING','AVG_ANNULUS_PRESS',\n",
    "             'DP_CHOKE_SIZE', 'BORE_GAS_VOL', 'BORE_WAT_VOL','BORE_OIL_VOL']]"
   ]
  },
  {
   "cell_type": "code",
   "execution_count": null,
   "metadata": {
    "scrolled": false
   },
   "outputs": [],
   "source": [
    "pd.plotting.scatter_matrix(df, figsize = (25,25), color = 'r', alpha = 0.9)"
   ]
  },
  {
   "cell_type": "markdown",
   "metadata": {},
   "source": [
    "## SEABORN"
   ]
  },
  {
   "cell_type": "markdown",
   "metadata": {},
   "source": [
    "### Python data visualization library based on matplotlib. It provides a high-level interface for drawing attractive and informative statistical graphics"
   ]
  },
  {
   "cell_type": "code",
   "execution_count": null,
   "metadata": {},
   "outputs": [],
   "source": [
    "df.columns"
   ]
  },
  {
   "cell_type": "markdown",
   "metadata": {},
   "source": [
    "####  Relplot: scatter plot of seaborn\n"
   ]
  },
  {
   "cell_type": "code",
   "execution_count": null,
   "metadata": {},
   "outputs": [],
   "source": [
    "plt.style.use('fivethirtyeight')\n",
    "\n",
    "sns.relplot(x = df['BORE_OIL_VOL'], y = df['BORE_GAS_VOL'])"
   ]
  },
  {
   "cell_type": "code",
   "execution_count": null,
   "metadata": {},
   "outputs": [],
   "source": [
    "df['Time_of_Flowing'] = np.where(df['ON_STREAM_HRS']>15,'High','Low')"
   ]
  },
  {
   "cell_type": "code",
   "execution_count": null,
   "metadata": {},
   "outputs": [],
   "source": [
    "df"
   ]
  },
  {
   "cell_type": "code",
   "execution_count": null,
   "metadata": {},
   "outputs": [],
   "source": [
    "# Hue = analyse one more variable using color\n",
    "sns.relplot(x = df['BORE_OIL_VOL'], y = df['BORE_GAS_VOL'],hue = df['Time_of_Flowing'])"
   ]
  },
  {
   "cell_type": "code",
   "execution_count": null,
   "metadata": {},
   "outputs": [],
   "source": [
    "df['Pressure_level'] = np.where(df['AVG_DOWNHOLE_PRESSURE']>235,'High Pressure','Low Pressure')"
   ]
  },
  {
   "cell_type": "code",
   "execution_count": null,
   "metadata": {
    "scrolled": true
   },
   "outputs": [],
   "source": [
    "sns.relplot(x = df['BORE_OIL_VOL'], y = df['BORE_GAS_VOL'],hue = df['Time_of_Flowing'],style = df['Pressure_level'])"
   ]
  },
  {
   "cell_type": "markdown",
   "metadata": {},
   "source": [
    "## Countplot"
   ]
  },
  {
   "cell_type": "code",
   "execution_count": null,
   "metadata": {},
   "outputs": [],
   "source": [
    "sns.countplot(x = df['Pressure_level'])"
   ]
  },
  {
   "cell_type": "code",
   "execution_count": null,
   "metadata": {},
   "outputs": [],
   "source": [
    "sns.countplot( y = df['Time_of_Flowing'])"
   ]
  },
  {
   "cell_type": "markdown",
   "metadata": {},
   "source": [
    "## Categorical vs Numerical values: Catplot"
   ]
  },
  {
   "cell_type": "code",
   "execution_count": null,
   "metadata": {},
   "outputs": [],
   "source": [
    "sns.catplot(x = 'Time_of_Flowing', y = 'BORE_OIL_VOL' , data = df)"
   ]
  },
  {
   "cell_type": "markdown",
   "metadata": {},
   "source": [
    "## Box Plot"
   ]
  },
  {
   "cell_type": "code",
   "execution_count": null,
   "metadata": {},
   "outputs": [],
   "source": [
    "sns.boxplot(x = 'Time_of_Flowing', y = 'BORE_OIL_VOL' , data = df)"
   ]
  },
  {
   "cell_type": "code",
   "execution_count": null,
   "metadata": {},
   "outputs": [],
   "source": [
    "sns.boxplot(x = 'Time_of_Flowing', y = 'BORE_OIL_VOL' ,hue ='Pressure_level', data = df)"
   ]
  },
  {
   "cell_type": "markdown",
   "metadata": {},
   "source": [
    "# JointPlot: scatter Plus histogram for bivariate"
   ]
  },
  {
   "cell_type": "code",
   "execution_count": null,
   "metadata": {},
   "outputs": [],
   "source": [
    "df.columns"
   ]
  },
  {
   "cell_type": "code",
   "execution_count": null,
   "metadata": {},
   "outputs": [],
   "source": [
    "sns.jointplot(x ='BORE_OIL_VOL',y = 'BORE_GAS_VOL',data = df)"
   ]
  },
  {
   "cell_type": "code",
   "execution_count": null,
   "metadata": {},
   "outputs": [],
   "source": [
    "sns.pairplot(df)"
   ]
  },
  {
   "cell_type": "markdown",
   "metadata": {},
   "source": [
    "## Regression line"
   ]
  },
  {
   "cell_type": "code",
   "execution_count": null,
   "metadata": {},
   "outputs": [],
   "source": [
    "sns.lmplot(x ='BORE_OIL_VOL',y = 'BORE_GAS_VOL',data = df)"
   ]
  },
  {
   "cell_type": "code",
   "execution_count": null,
   "metadata": {},
   "outputs": [],
   "source": [
    "\n",
    "sns.lmplot(x ='BORE_OIL_VOL',y = 'AVG_ANNULUS_PRESS',data = df)"
   ]
  },
  {
   "cell_type": "code",
   "execution_count": null,
   "metadata": {},
   "outputs": [],
   "source": [
    "sns.lmplot(x ='BORE_OIL_VOL',y = 'BORE_GAS_VOL',data = df,col = 'Pressure_level')"
   ]
  },
  {
   "cell_type": "code",
   "execution_count": null,
   "metadata": {},
   "outputs": [],
   "source": []
  }
 ],
 "metadata": {
  "kernelspec": {
   "display_name": "Python 3",
   "language": "python",
   "name": "python3"
  },
  "language_info": {
   "codemirror_mode": {
    "name": "ipython",
    "version": 3
   },
   "file_extension": ".py",
   "mimetype": "text/x-python",
   "name": "python",
   "nbconvert_exporter": "python",
   "pygments_lexer": "ipython3",
   "version": "3.7.4"
  }
 },
 "nbformat": 4,
 "nbformat_minor": 2
}
